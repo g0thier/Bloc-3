{
 "cells": [
  {
   "cell_type": "code",
   "execution_count": 2,
   "metadata": {},
   "outputs": [],
   "source": [
    "from datetime import datetime\n",
    "import matplotlib.pyplot as plt\n",
    "from matplotlib.colors import Normalize\n",
    "import numpy as np\n",
    "import pandas as pd\n",
    "import plotly.express as px\n",
    "import plotly.figure_factory as ff\n",
    "import plotly.graph_objects as go\n",
    "import plotly.io as pio\n",
    "from plotly.subplots import make_subplots\n",
    "import re\n",
    "import seaborn as sns"
   ]
  },
  {
   "cell_type": "code",
   "execution_count": 3,
   "metadata": {},
   "outputs": [
    {
     "data": {
      "text/html": [
       "<div>\n",
       "<style scoped>\n",
       "    .dataframe tbody tr th:only-of-type {\n",
       "        vertical-align: middle;\n",
       "    }\n",
       "\n",
       "    .dataframe tbody tr th {\n",
       "        vertical-align: top;\n",
       "    }\n",
       "\n",
       "    .dataframe thead th {\n",
       "        text-align: right;\n",
       "    }\n",
       "</style>\n",
       "<table border=\"1\" class=\"dataframe\">\n",
       "  <thead>\n",
       "    <tr style=\"text-align: right;\">\n",
       "      <th></th>\n",
       "      <th>Store</th>\n",
       "      <th>Date</th>\n",
       "      <th>Weekly_Sales</th>\n",
       "      <th>Holiday_Flag</th>\n",
       "      <th>Temperature</th>\n",
       "      <th>Fuel_Price</th>\n",
       "      <th>CPI</th>\n",
       "      <th>Unemployment</th>\n",
       "    </tr>\n",
       "  </thead>\n",
       "  <tbody>\n",
       "    <tr>\n",
       "      <th>0</th>\n",
       "      <td>17.0</td>\n",
       "      <td>2010-01-10</td>\n",
       "      <td>829207.27</td>\n",
       "      <td>0.0</td>\n",
       "      <td>60.07</td>\n",
       "      <td>2.853</td>\n",
       "      <td>126.234600</td>\n",
       "      <td>6.885000</td>\n",
       "    </tr>\n",
       "    <tr>\n",
       "      <th>1</th>\n",
       "      <td>7.0</td>\n",
       "      <td>2010-02-04</td>\n",
       "      <td>561145.14</td>\n",
       "      <td>0.0</td>\n",
       "      <td>38.26</td>\n",
       "      <td>2.725</td>\n",
       "      <td>189.704822</td>\n",
       "      <td>8.963000</td>\n",
       "    </tr>\n",
       "    <tr>\n",
       "      <th>2</th>\n",
       "      <td>19.0</td>\n",
       "      <td>2010-02-07</td>\n",
       "      <td>1549018.68</td>\n",
       "      <td>0.0</td>\n",
       "      <td>66.25</td>\n",
       "      <td>2.958</td>\n",
       "      <td>132.521867</td>\n",
       "      <td>8.099000</td>\n",
       "    </tr>\n",
       "    <tr>\n",
       "      <th>3</th>\n",
       "      <td>13.0</td>\n",
       "      <td>2010-02-07</td>\n",
       "      <td>2018314.71</td>\n",
       "      <td>0.0</td>\n",
       "      <td>78.82</td>\n",
       "      <td>2.814</td>\n",
       "      <td>126.139200</td>\n",
       "      <td>7.951000</td>\n",
       "    </tr>\n",
       "    <tr>\n",
       "      <th>4</th>\n",
       "      <td>2.0</td>\n",
       "      <td>2010-02-19</td>\n",
       "      <td>2124451.54</td>\n",
       "      <td>0.0</td>\n",
       "      <td>39.69</td>\n",
       "      <td>2.514</td>\n",
       "      <td>210.945160</td>\n",
       "      <td>7.658616</td>\n",
       "    </tr>\n",
       "  </tbody>\n",
       "</table>\n",
       "</div>"
      ],
      "text/plain": [
       "   Store        Date  Weekly_Sales  Holiday_Flag  Temperature  Fuel_Price  \\\n",
       "0   17.0  2010-01-10     829207.27           0.0        60.07       2.853   \n",
       "1    7.0  2010-02-04     561145.14           0.0        38.26       2.725   \n",
       "2   19.0  2010-02-07    1549018.68           0.0        66.25       2.958   \n",
       "3   13.0  2010-02-07    2018314.71           0.0        78.82       2.814   \n",
       "4    2.0  2010-02-19    2124451.54           0.0        39.69       2.514   \n",
       "\n",
       "          CPI  Unemployment  \n",
       "0  126.234600      6.885000  \n",
       "1  189.704822      8.963000  \n",
       "2  132.521867      8.099000  \n",
       "3  126.139200      7.951000  \n",
       "4  210.945160      7.658616  "
      ]
     },
     "execution_count": 3,
     "metadata": {},
     "output_type": "execute_result"
    }
   ],
   "source": [
    "dataset = pd.read_csv('src/dataset_clear.csv')\n",
    "dataset.head(5)"
   ]
  },
  {
   "cell_type": "code",
   "execution_count": 4,
   "metadata": {},
   "outputs": [],
   "source": [
    " # - Categorical variables : Store, Holiday_Flag\n",
    " # - Numerical variables : Temperature, Fuel_Price, CPI, Unemployment, Year, Month, Day, DayOfWeek"
   ]
  }
 ],
 "metadata": {
  "kernelspec": {
   "display_name": "Python 3.9.5 64-bit",
   "language": "python",
   "name": "python3"
  },
  "language_info": {
   "codemirror_mode": {
    "name": "ipython",
    "version": 3
   },
   "file_extension": ".py",
   "mimetype": "text/x-python",
   "name": "python",
   "nbconvert_exporter": "python",
   "pygments_lexer": "ipython3",
   "version": "3.9.5"
  },
  "orig_nbformat": 4,
  "vscode": {
   "interpreter": {
    "hash": "7812ea015bdcee6f23a998adcdd2ef97c151c0c241b7b7070987d9313e41299d"
   }
  }
 },
 "nbformat": 4,
 "nbformat_minor": 2
}
