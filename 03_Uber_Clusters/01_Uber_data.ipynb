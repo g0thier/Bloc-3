{
 "cells": [
  {
   "cell_type": "code",
   "execution_count": 1,
   "metadata": {},
   "outputs": [],
   "source": [
    "import pandas as pd\n",
    "import numpy as np"
   ]
  },
  {
   "cell_type": "code",
   "execution_count": 4,
   "metadata": {},
   "outputs": [
    {
     "name": "stdout",
     "output_type": "stream",
     "text": [
      "Missing values (%) :\n"
     ]
    },
    {
     "data": {
      "text/plain": [
       "LocationID    0.0\n",
       "Borough       0.0\n",
       "Zone          0.0\n",
       "dtype: float64"
      ]
     },
     "metadata": {},
     "output_type": "display_data"
    },
    {
     "name": "stdout",
     "output_type": "stream",
     "text": [
      "Types of columns :\n",
      "LocationID     int64\n",
      "Borough       object\n",
      "Zone          object\n",
      "dtype: object\n",
      "Describe :\n",
      "        LocationID Borough                                           Zone\n",
      "count   265.000000     265                                            265\n",
      "unique         NaN       7                                            261\n",
      "top            NaN  Queens  Governor's Island/Ellis Island/Liberty Island\n",
      "freq           NaN      69                                              3\n",
      "mean    133.000000     NaN                                            NaN\n",
      "std      76.643112     NaN                                            NaN\n",
      "min       1.000000     NaN                                            NaN\n",
      "25%      67.000000     NaN                                            NaN\n",
      "50%     133.000000     NaN                                            NaN\n",
      "75%     199.000000     NaN                                            NaN\n",
      "max     265.000000     NaN                                            NaN\n",
      "Missing values (%) :\n"
     ]
    },
    {
     "data": {
      "text/plain": [
       "Date/Time    0.0\n",
       "Lat          0.0\n",
       "Lon          0.0\n",
       "Base         0.0\n",
       "dtype: float64"
      ]
     },
     "metadata": {},
     "output_type": "display_data"
    },
    {
     "name": "stdout",
     "output_type": "stream",
     "text": [
      "Types of columns :\n",
      "Date/Time     object\n",
      "Lat          float64\n",
      "Lon          float64\n",
      "Base          object\n",
      "dtype: object\n",
      "Describe :\n",
      "                 Date/Time            Lat            Lon    Base\n",
      "count               663844  663844.000000  663844.000000  663844\n",
      "unique               42569            NaN            NaN       5\n",
      "top     6/13/2014 18:03:00            NaN            NaN  B02598\n",
      "freq                    88            NaN            NaN  242975\n",
      "mean                   NaN      40.739884     -73.974073     NaN\n",
      "std                    NaN       0.038387       0.056647     NaN\n",
      "min                    NaN      39.955800     -74.859400     NaN\n",
      "25%                    NaN      40.721900     -73.996700     NaN\n",
      "50%                    NaN      40.743700     -73.983500     NaN\n",
      "75%                    NaN      40.761300     -73.967600     NaN\n",
      "max                    NaN      41.319900     -72.696600     NaN\n"
     ]
    }
   ],
   "source": [
    "taxi_zone_lookup = pd.read_csv(\"src/taxi-zone-lookup.csv\")\n",
    "uber_raw = pd.read_csv(\"src/uber-raw-data-jun14.csv\")\n",
    "\n",
    "'''\n",
    "for dataset in [taxi_zone_lookup, uber_raw]:\n",
    "    print('Missing values (%) :')\n",
    "    display(100*dataset.isnull().sum()/dataset.shape[0])\n",
    "    print('Types of columns :')\n",
    "    print(dataset.dtypes)\n",
    "    print('Describe :')\n",
    "    print(dataset.describe(include='all'))\n",
    "'''\n",
    "\n"
   ]
  },
  {
   "cell_type": "code",
   "execution_count": null,
   "metadata": {},
   "outputs": [],
   "source": []
  }
 ],
 "metadata": {
  "kernelspec": {
   "display_name": "Python 3.9.5 64-bit",
   "language": "python",
   "name": "python3"
  },
  "language_info": {
   "codemirror_mode": {
    "name": "ipython",
    "version": 3
   },
   "file_extension": ".py",
   "mimetype": "text/x-python",
   "name": "python",
   "nbconvert_exporter": "python",
   "pygments_lexer": "ipython3",
   "version": "3.9.5"
  },
  "orig_nbformat": 4,
  "vscode": {
   "interpreter": {
    "hash": "7812ea015bdcee6f23a998adcdd2ef97c151c0c241b7b7070987d9313e41299d"
   }
  }
 },
 "nbformat": 4,
 "nbformat_minor": 2
}
