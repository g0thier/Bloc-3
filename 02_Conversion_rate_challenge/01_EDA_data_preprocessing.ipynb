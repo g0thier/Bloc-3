{
 "cells": [
  {
   "cell_type": "code",
   "execution_count": 34,
   "metadata": {},
   "outputs": [],
   "source": [
    "import pandas as pd\n",
    "import numpy as np\n",
    "\n",
    "import seaborn as sns\n",
    "\n",
    "from sklearn.model_selection import train_test_split\n",
    "from sklearn.impute import SimpleImputer\n",
    "from sklearn.preprocessing import StandardScaler\n",
    "from sklearn.compose import ColumnTransformer\n",
    "from sklearn.linear_model import LogisticRegression\n",
    "from sklearn.metrics import f1_score, confusion_matrix\n",
    "\n",
    "import matplotlib.pyplot as plt\n",
    "import plotly.express as px\n",
    "import plotly.figure_factory as ff\n",
    "import plotly.graph_objects as go\n",
    "import plotly.io as pio\n",
    "# setting Jedha color palette as default\n",
    "pio.templates[\"jedha\"] = go.layout.Template(\n",
    "    layout_colorway=[\"#4B9AC7\", \"#4BE8E0\", \"#9DD4F3\", \"#97FBF6\", \"#2A7FAF\", \"#23B1AB\", \"#0E3449\", \"#015955\"]\n",
    ")\n",
    "pio.templates.default = \"jedha\"\n",
    "pio.renderers.default = \"svg\" # to be replaced by \"iframe\" if working on JULIE\n",
    "from IPython.display import display"
   ]
  },
  {
   "cell_type": "code",
   "execution_count": 35,
   "metadata": {},
   "outputs": [],
   "source": [
    "data = pd.read_csv('src/conversion_data_train.csv')"
   ]
  },
  {
   "cell_type": "code",
   "execution_count": 36,
   "metadata": {},
   "outputs": [
    {
     "data": {
      "text/html": [
       "<div>\n",
       "<style scoped>\n",
       "    .dataframe tbody tr th:only-of-type {\n",
       "        vertical-align: middle;\n",
       "    }\n",
       "\n",
       "    .dataframe tbody tr th {\n",
       "        vertical-align: top;\n",
       "    }\n",
       "\n",
       "    .dataframe thead th {\n",
       "        text-align: right;\n",
       "    }\n",
       "</style>\n",
       "<table border=\"1\" class=\"dataframe\">\n",
       "  <thead>\n",
       "    <tr style=\"text-align: right;\">\n",
       "      <th></th>\n",
       "      <th>country</th>\n",
       "      <th>age</th>\n",
       "      <th>new_user</th>\n",
       "      <th>source</th>\n",
       "      <th>total_pages_visited</th>\n",
       "      <th>converted</th>\n",
       "    </tr>\n",
       "  </thead>\n",
       "  <tbody>\n",
       "    <tr>\n",
       "      <th>0</th>\n",
       "      <td>China</td>\n",
       "      <td>22</td>\n",
       "      <td>1</td>\n",
       "      <td>Direct</td>\n",
       "      <td>2</td>\n",
       "      <td>0</td>\n",
       "    </tr>\n",
       "    <tr>\n",
       "      <th>1</th>\n",
       "      <td>UK</td>\n",
       "      <td>21</td>\n",
       "      <td>1</td>\n",
       "      <td>Ads</td>\n",
       "      <td>3</td>\n",
       "      <td>0</td>\n",
       "    </tr>\n",
       "    <tr>\n",
       "      <th>2</th>\n",
       "      <td>Germany</td>\n",
       "      <td>20</td>\n",
       "      <td>0</td>\n",
       "      <td>Seo</td>\n",
       "      <td>14</td>\n",
       "      <td>1</td>\n",
       "    </tr>\n",
       "    <tr>\n",
       "      <th>3</th>\n",
       "      <td>US</td>\n",
       "      <td>23</td>\n",
       "      <td>1</td>\n",
       "      <td>Seo</td>\n",
       "      <td>3</td>\n",
       "      <td>0</td>\n",
       "    </tr>\n",
       "    <tr>\n",
       "      <th>4</th>\n",
       "      <td>US</td>\n",
       "      <td>28</td>\n",
       "      <td>1</td>\n",
       "      <td>Direct</td>\n",
       "      <td>3</td>\n",
       "      <td>0</td>\n",
       "    </tr>\n",
       "  </tbody>\n",
       "</table>\n",
       "</div>"
      ],
      "text/plain": [
       "   country  age  new_user  source  total_pages_visited  converted\n",
       "0    China   22         1  Direct                    2          0\n",
       "1       UK   21         1     Ads                    3          0\n",
       "2  Germany   20         0     Seo                   14          1\n",
       "3       US   23         1     Seo                    3          0\n",
       "4       US   28         1  Direct                    3          0"
      ]
     },
     "execution_count": 36,
     "metadata": {},
     "output_type": "execute_result"
    }
   ],
   "source": [
    "data.head()"
   ]
  },
  {
   "cell_type": "code",
   "execution_count": 37,
   "metadata": {},
   "outputs": [
    {
     "data": {
      "text/plain": [
       "country                object\n",
       "age                     int64\n",
       "new_user                int64\n",
       "source                 object\n",
       "total_pages_visited     int64\n",
       "converted               int64\n",
       "dtype: object"
      ]
     },
     "execution_count": 37,
     "metadata": {},
     "output_type": "execute_result"
    }
   ],
   "source": [
    "data.dtypes"
   ]
  },
  {
   "cell_type": "code",
   "execution_count": 38,
   "metadata": {},
   "outputs": [],
   "source": [
    "data['new_user'] =  data['new_user'].astype(str)\n",
    "data['new_user'] = [ 'Yes' if x == '1' else 'No' for x in data['new_user'] ]"
   ]
  },
  {
   "cell_type": "code",
   "execution_count": 39,
   "metadata": {},
   "outputs": [
    {
     "data": {
      "text/html": [
       "<div>\n",
       "<style scoped>\n",
       "    .dataframe tbody tr th:only-of-type {\n",
       "        vertical-align: middle;\n",
       "    }\n",
       "\n",
       "    .dataframe tbody tr th {\n",
       "        vertical-align: top;\n",
       "    }\n",
       "\n",
       "    .dataframe thead th {\n",
       "        text-align: right;\n",
       "    }\n",
       "</style>\n",
       "<table border=\"1\" class=\"dataframe\">\n",
       "  <thead>\n",
       "    <tr style=\"text-align: right;\">\n",
       "      <th></th>\n",
       "      <th>country</th>\n",
       "      <th>age</th>\n",
       "      <th>new_user</th>\n",
       "      <th>source</th>\n",
       "      <th>total_pages_visited</th>\n",
       "      <th>converted</th>\n",
       "    </tr>\n",
       "  </thead>\n",
       "  <tbody>\n",
       "    <tr>\n",
       "      <th>0</th>\n",
       "      <td>China</td>\n",
       "      <td>22</td>\n",
       "      <td>Yes</td>\n",
       "      <td>Direct</td>\n",
       "      <td>2</td>\n",
       "      <td>0</td>\n",
       "    </tr>\n",
       "    <tr>\n",
       "      <th>1</th>\n",
       "      <td>UK</td>\n",
       "      <td>21</td>\n",
       "      <td>Yes</td>\n",
       "      <td>Ads</td>\n",
       "      <td>3</td>\n",
       "      <td>0</td>\n",
       "    </tr>\n",
       "    <tr>\n",
       "      <th>2</th>\n",
       "      <td>Germany</td>\n",
       "      <td>20</td>\n",
       "      <td>No</td>\n",
       "      <td>Seo</td>\n",
       "      <td>14</td>\n",
       "      <td>1</td>\n",
       "    </tr>\n",
       "    <tr>\n",
       "      <th>3</th>\n",
       "      <td>US</td>\n",
       "      <td>23</td>\n",
       "      <td>Yes</td>\n",
       "      <td>Seo</td>\n",
       "      <td>3</td>\n",
       "      <td>0</td>\n",
       "    </tr>\n",
       "    <tr>\n",
       "      <th>4</th>\n",
       "      <td>US</td>\n",
       "      <td>28</td>\n",
       "      <td>Yes</td>\n",
       "      <td>Direct</td>\n",
       "      <td>3</td>\n",
       "      <td>0</td>\n",
       "    </tr>\n",
       "  </tbody>\n",
       "</table>\n",
       "</div>"
      ],
      "text/plain": [
       "   country  age new_user  source  total_pages_visited  converted\n",
       "0    China   22      Yes  Direct                    2          0\n",
       "1       UK   21      Yes     Ads                    3          0\n",
       "2  Germany   20       No     Seo                   14          1\n",
       "3       US   23      Yes     Seo                    3          0\n",
       "4       US   28      Yes  Direct                    3          0"
      ]
     },
     "execution_count": 39,
     "metadata": {},
     "output_type": "execute_result"
    }
   ],
   "source": [
    "data.head()"
   ]
  },
  {
   "cell_type": "code",
   "execution_count": 40,
   "metadata": {},
   "outputs": [],
   "source": [
    "#Test on sample \n",
    "data_sample = data.sample(1000)"
   ]
  },
  {
   "cell_type": "code",
   "execution_count": 41,
   "metadata": {},
   "outputs": [
    {
     "data": {
      "image/svg+xml": "<svg class=\"main-svg\" xmlns=\"http://www.w3.org/2000/svg\" xmlns:xlink=\"http://www.w3.org/1999/xlink\" width=\"700\" height=\"500\" style=\"\" viewBox=\"0 0 700 500\"><rect x=\"0\" y=\"0\" width=\"700\" height=\"500\" style=\"fill: rgb(255, 255, 255); fill-opacity: 1;\"/><defs id=\"defs-007609\"><g class=\"clips\"><clipPath id=\"clip007609xyplot\" class=\"plotclip\"><rect width=\"400\" height=\"400\"/></clipPath><clipPath class=\"axesclip\" id=\"clip007609x\"><rect x=\"150\" y=\"0\" width=\"400\" height=\"500\"/></clipPath><clipPath class=\"axesclip\" id=\"clip007609y\"><rect x=\"0\" y=\"80\" width=\"700\" height=\"400\"/></clipPath><clipPath class=\"axesclip\" id=\"clip007609xy\"><rect x=\"150\" y=\"80\" width=\"400\" height=\"400\"/></clipPath></g><g class=\"gradients\"/><g class=\"patterns\"/></defs><g class=\"bglayer\"/><g class=\"layer-below\"><g class=\"imagelayer\"/><g class=\"shapelayer\"/></g><g class=\"cartesianlayer\"><g class=\"subplot xy\"><g class=\"layer-subplot\"><g class=\"shapelayer\"/><g class=\"imagelayer\"/></g><g class=\"minor-gridlayer\"><g class=\"x\"/><g class=\"y\"/></g><g class=\"gridlayer\"><g class=\"x\"><path class=\"xgrid crisp\" transform=\"translate(216.67000000000002,0)\" d=\"M0,80v400\" style=\"stroke: rgb(0, 0, 0); stroke-opacity: 1; stroke-width: 1px;\"/><path class=\"xgrid crisp\" transform=\"translate(350,0)\" d=\"M0,80v400\" style=\"stroke: rgb(0, 0, 0); stroke-opacity: 1; stroke-width: 1px;\"/><path class=\"xgrid crisp\" transform=\"translate(483.33,0)\" d=\"M0,80v400\" style=\"stroke: rgb(0, 0, 0); stroke-opacity: 1; stroke-width: 1px;\"/></g><g class=\"y\"><path class=\"ygrid crisp\" transform=\"translate(0,413.33)\" d=\"M150,0h400\" style=\"stroke: rgb(238, 238, 238); stroke-opacity: 1; stroke-width: 1px;\"/><path class=\"ygrid crisp\" transform=\"translate(0,280)\" d=\"M150,0h400\" style=\"stroke: rgb(238, 238, 238); stroke-opacity: 1; stroke-width: 1px;\"/><path class=\"ygrid crisp\" transform=\"translate(0,146.67000000000002)\" d=\"M150,0h400\" style=\"stroke: rgb(238, 238, 238); stroke-opacity: 1; stroke-width: 1px;\"/></g></g><g class=\"zerolinelayer\"/><path class=\"xlines-below\"/><path class=\"ylines-below\"/><g class=\"overlines-below\"/><g class=\"xaxislayer-below\"/><g class=\"yaxislayer-below\"/><g class=\"overaxes-below\"/><g class=\"plot\" transform=\"translate(150,80)\" clip-path=\"url(#clip007609xyplot)\"><g class=\"heatmaplayer mlayer\"><g class=\"hm\"><image xmlns=\"http://www.w3.org/2000/svg\" preserveAspectRatio=\"none\" height=\"400\" width=\"400\" x=\"0\" y=\"0\" xlink:href=\"data:image/png;base64,iVBORw0KGgoAAAANSUhEUgAAAZAAAAGQCAYAAACAvzbMAAAZvklEQVR4Xu2XoY2YZxQEcwGRyWEzS2kgfZilg1TgOsxMXIGrSBNBacHIKJGCDp1pchewQ9/Mj/eBnf2k0f/w+Obj8w99EfgXgT9+/RqPCLwi8PbL71GJwH8IPCSQXsRLAgmkN/F/BBJI7+IlgQTSm3hFIIH0KBJIb2AhkEAWSrJMApENPtbtD2QEJYolENHYa9UEspJy5RKIa++lbQJZKMkyCUQ2+Fg3gYygRLEEIhp7rZpAVlKuXAJx7b20TSALJVkmgcgGH+smkBGUKJZARGOvVRPISsqVSyCuvZe2CWShJMskENngY90EMoISxRKIaOy1agJZSblyCcS199I2gSyUZJkEIht8rJtARlCiWAIRjb1WTSArKVcugbj2XtomkIWSLJNAZIOPdRPICEoUSyCisdeqCWQl5colENfeS9sEslCSZRKIbPCxbgIZQYliCUQ09lo1gaykXLkE4tp7aZtAFkqyTAKRDT7WTSAjKFEsgYjGXqsmkJWUK5dAXHsvbRPIQkmWSSCywce6CWQEJYolENHYa9UEspJy5RKIa++lbQJZKMkyCUQ2+Fg3gYygRLEEIhp7rZpAVlKuXAJx7b20TSALJVkmgcgGH+smkBGUKJZARGOvVRPISsqVSyCuvZe2CWShJMskENngY90EMoISxRKIaOy1agJZSblyCcS199I2gSyUZJkEIht8rJtARlCiWAIRjb1WTSArKVcugbj2XtomkIWSLJNAZIOPdRPICEoUSyCisdeqCWQl5colENfeS9sEslCSZRKIbPCxbgIZQYliCUQ09lo1gaykXLkE4tp7aZtAFkqyTAKRDT7WTSAjKFEsgYjGXqsmkJWUK5dAXHsvbRPIQkmWSSCywce6CWQEJYolENHYa9UEspJy5RKIa++lbQJZKMkyCUQ2+Fg3gYygRLEEIhp7rZpAVlKuXAJx7b20TSALJVkmgcgGH+smkBGUKJZARGOvVRPISsqVSyCuvZe2CWShJMskENngY90EMoISxRKIaOy1agJZSblyCcS199I2gSyUZJkEIht8rJtARlCiWAIRjb1WTSArKVcugbj2XtomkIWSLJNAZIOPdRPICEoUSyCisdeqCWQl5colENfeS9sEslCSZRKIbPCxbgIZQYliCUQ09lo1gaykXLkE4tp7aZtAFkqyTAKRDT7WTSAjKFEsgYjGXqsmkJWUK5dAXHsvbRPIQkmWSSCywce6CWQEJYolENHYa9UEspJy5RKIa++lbQJZKMkyCUQ2+Fg3gYygRLEEIhp7rZpAVlKuXAJx7b20TSALJVkmgcgGH+smkBGUKJZARGOvVRPISsqVSyCuvZe2CWShJMskENngY90EMoISxRKIaOy1agJZSblyCcS199I2gSyUZJkEIht8rJtARlCiWAIRjb1WTSArKVcugbj2XtomkIWSLJNAZIOPdRPICEoUSyCisdeqCWQl5colENfeS9sEslCSZRKIbPCxbgIZQYliCUQ09lo1gaykXLkE4tp7aZtAFkqyTAKRDT7WTSAjKFEsgYjGXqsmkJWUK5dAXHsvbRPIQkmWSSCywce6CWQEJYolENHYa9UEspJy5RKIa++lbQJZKMkyCUQ2+Fg3gYygRLEEIhp7rZpAVlKuXAJx7b20TSALJVkmgcgGH+smkBGUKJZARGOvVRPISsqVSyCuvZe2CWShJMskENngY90EMoISxRKIaOy1agJZSblyCcS199I2gSyUZJkEIht8rJtARlCiWAIRjb1WTSArKVcugbj2XtomkIWSLJNAZIOPdRPICEoUSyCisdeqCWQl5colENfeS9sEslCSZRKIbPCxbgIZQYliCUQ09lo1gaykXLkE4tp7aZtAFkqyTAKRDT7WTSAjKFEsgYjGXqsmkJWUK5dAXHsvbRPIQkmWSSCywce6CWQEJYolENHYa9UEspJy5RKIa++lbQJZKMkyCUQ2+Fg3gYygRLEEIhp7rZpAVlKuXAJx7b20TSALJVkmgcgGH+smkBGUKJZARGOvVRPISsqVSyCuvZe2CWShJMskENngY90EMoISxRKIaOy1agJZSblyCcS199I2gSyUZJkEIht8rJtARlCiWAIRjb1WTSArKVcugbj2XtomkIWSLJNAZIOPdRPICEoUSyCisdeqCWQl5colENfeS9sEslCSZRKIbPCxbgIZQYliCUQ09lo1gaykXLkE4tp7aZtAFkqyTAKRDT7WTSAjKFEsgYjGXqsmkJWUK5dAXHsvbRPIQkmWSSCywce6CWQEJYolENHYa9UEspJy5RKIa++lbQJZKMkyCUQ2+Fg3gYygRLEEIhp7rZpAVlKuXAJx7b20TSALJVkmgcgGH+smkBGUKJZARGOvVRPISsqVSyCuvZe2CWShJMskENngY90EMoISxRKIaOy1agJZSblyCcS199I2gSyUZJkEIht8rJtARlCiWAIRjb1WTSArKVcugbj2XtomkIWSLJNAZIOPdRPICEoUSyCisdeqCWQl5colENfeS9sEslCSZRKIbPCxbgIZQYliCUQ09lo1gaykXLkE4tp7aZtAFkqyTAKRDT7WTSAjKFEsgYjGXqsmkJWUK5dAXHsvbRPIQkmWSSCywce6CWQEJYolENHYa9UEspJy5RKIa++lbQJZKMkyCUQ2+Fg3gYygRLEEIhp7rZpAVlKuXAJx7b20TSALJVkmgcgGH+smkBGUKJZARGOvVRPISsqVSyCuvZe2CWShJMskENngY90EMoISxRKIaOy1agJZSblyCcS199I2gSyUZJkEIht8rJtARlCiWAIRjb1WTSArKVcugbj2XtomkIWSLJNAZIOPdRPICEoUSyCisdeqCWQl5colENfeS9sEslCSZRKIbPCxbgIZQYliCUQ09lo1gaykXLkE4tp7aZtAFkqyTAKRDT7WTSAjKFEsgYjGXqsmkJWUK5dAXHsvbRPIQkmWSSCywce6CWQEJYolENHYa9UEspJy5RKIa++l7cO7nz49L8EyHgJ//vPZU7amM4Fvv72fswUdBBKIY2fUMoEgXJpwAtFMPRdNIDMqTzCBeLYmTRMIoeXIJhDHzqhlAkG4NOEEopl6LppAZlSeYALxbE2aJhBCy5FNII6dUcsEgnBpwglEM/VcNIHMqDzBBOLZmjRNIISWI5tAHDujlgkE4dKEE4hm6rloAplReYIJxLM1aZpACC1HNoE4dkYtEwjCpQknEM3Uc9EEMqPyBBOIZ2vSNIEQWo5sAnHsjFomEIRLE04gmqnnoglkRuUJJhDP1qRpAiG0HNkE4tgZtUwgCJcmnEA0U89FE8iMyhNMIJ6tSdMEQmg5sgnEsTNqmUAQLk04gWimnosmkBmVJ5hAPFuTpgmE0HJkE4hjZ9QygSBcmnAC0Uw9F00gMypPMIF4tiZNEwih5cgmEMfOqGUCQbg04QSimXoumkBmVJ5gAvFsTZomEELLkU0gjp1RywSCcGnCCUQz9Vw0gcyoPMEE4tmaNE0ghJYjm0AcO6OWCQTh0oQTiGbquWgCmVF5ggnEszVpmkAILUc2gTh2Ri0TCMKlCScQzdRz0QQyo/IEE4hna9I0gRBajmwCceyMWiYQhEsTTiCaqeeiCWRG5QkmEM/WpGkCIbQc2QTi2Bm1TCAIlyacQDRTz0UTyIzKE0wgnq1J0wRCaDmyCcSxM2qZQBAuTTiBaKaeiyaQGZUnmEA8W5OmCYTQcmQTiGNn1DKBIFyacALRTD0XTSAzKk8wgXi2Jk0TCKHlyCYQx86oZQJBuDThBKKZei6aQGZUnmAC8WxNmiYQQsuRTSCOnVHLBIJwacIJRDP1XDSBzKg8wQTi2Zo0TSCEliObQBw7o5YJBOHShBOIZuq5aAKZUXmCCcSzNWmaQAgtRzaBOHZGLRMIwqUJJxDN1HPRBDKj8gQTiGdr0jSBEFqObAJx7IxaJhCESxNOIJqp56IJZEblCSYQz9akaQIhtBzZBOLYGbVMIAiXJpxANFPPRRPIjMoTTCCerUnTBEJoObIJxLEzaplAEC5NOIFopp6LJpAZlSeYQDxbk6YJhNByZBOIY2fUMoEgXJpwAtFMPRdNIDMqTzCBeLYmTRMIoeXIJhDHzqhlAkG4NOEEopl6LppAZlSeYALxbE2aJhBCy5FNII6dUcsEgnBpwglEM/VcNIHMqDzBBOLZmjRNIISWI5tAHDujlgkE4dKEE4hm6rloAplReYIJxLM1aZpACC1HNoE4dkYtEwjCpQknEM3Uc9EEMqPyBBOIZ2vSNIEQWo5sAnHsjFomEIRLE04gmqnnoglkRuUJJhDP1qRpAiG0HNkE4tgZtUwgCJcmnEA0U89FE8iMyhNMIJ6tSdMEQmg5sgnEsTNqmUAQLk04gWimnosmkBmVJ5hAPFuTpgmE0HJkE4hjZ9QygSBcmnAC0Uw9F00gMypPMIF4tiZNEwih5cgmEMfOqGUCQbg04QSimXoumkBmVJ5gAvFsTZomEELLkU0gjp1RywSCcGnCCUQz9Vw0gcyoPMEE4tmaNE0ghJYjm0AcO6OWCQTh0oQTiGbquWgCmVF5ggnEszVpmkAILUc2gTh2Ri0TCMKlCScQzdRz0QQyo/IEE4hna9I0gRBajmwCceyMWiYQhEsTTiCaqeeiCWRG5QkmEM/WpGkCIbQc2QTi2Bm1TCAIlyacQDRTz0UTyIzKE0wgnq1J0wRCaDmyCcSxM2qZQBAuTTiBaKaeiyaQGZUnmEA8W5OmCYTQcmQTiGNn1DKBIFyacALRTD0XTSAzKk8wgXi2Jk0TCKHlyCYQx86oZQJBuDThBKKZei6aQGZUnmAC8WxNmiYQQsuRTSCOnVHLBIJwacIJRDP1XDSBzKg8wQTi2Zo0TSCEliObQBw7o5YJBOHShBOIZuq5aAKZUXmCCcSzNWmaQAgtRzaBOHZGLRMIwqUJJxDN1HPRBDKj8gQTiGdr0jSBEFqObAJx7IxaJhCESxNOIJqp56IJZEblCSYQz9akaQIhtBzZBOLYGbVMIAiXJpxANFPPRRPIjMoTTCCerUnTBEJoObIJxLEzaplAEC5NOIFopp6LJpAZlSeYQDxbk6YJhNByZBOIY2fUMoEgXJpwAtFMPRdNIDMqTzCBeLYmTRMIoeXIJhDHzqhlAkG4NOEEopl6LppAZlSeYALxbE2aJhBCy5FNII6dUcsEgnBpwglEM/VcNIHMqDzBBOLZmjRNIISWI5tAHDujlgkE4dKEE4hm6rloAplReYIJxLM1aZpACC1HNoE4dkYtEwjCpQknEM3Uc9EEMqPyBBOIZ2vSNIEQWo5sAnHsjFomEIRLE04gmqnnoglkRuUJJhDP1qRpAiG0HNkE4tgZtUwgCJcmnEA0U89FE8iMyhNMIJ6tSdMEQmg5sgnEsTNqmUAQLk04gWimnosmkBmVJ5hAPFuTpgmE0HJkE4hjZ9QygSBcmnAC0Uw9F00gMypPMIF4tiZNEwih5cgmEMfOqGUCQbg04QSimXoumkBmVJ5gAvFsTZomEELLkU0gjp1RywSCcGnCCUQz9Vw0gcyoPMEE4tmaNE0ghJYjm0AcO6OWCQTh0oQTiGbquWgCmVF5ggnEszVpmkAILUc2gTh2Ri0TCMKlCScQzdRz0QQyo/IEE4hna9I0gRBajmwCceyMWiYQhEsTTiCaqeeiCWRG5QkmEM/WpGkCIbQc2QTi2Bm1TCAIlyacQDRTz0UTyIzKE0wgnq1J0wRCaDmyCcSxM2qZQBAuTTiBaKaeiyaQGZUnmEA8W5OmCYTQcmQTiGNn1DKBIFyacALRTD0XTSAzKk8wgXi2Jk0TCKHlyCYQx86oZQJBuDThBKKZei6aQGZUnmAC8WxNmiYQQsuRTSCOnVHLBIJwacIJRDP1XPTh76efn+d0QQWBXx4/KHpWkhH468cndlD6PIEEcn5iXjCBcGaGiwRiWJl1TCCMlyKdQBQz45IJBCM7f5BAzk/MCyYQzsxwkUAMK7OOCYTxUqQTiGJmXDKBYGTnDxLI+Yl5wQTCmRkuEohhZdYxgTBeinQCUcyMSyYQjOz8QQI5PzEvmEA4M8NFAjGszDomEMZLkU4giplxyQSCkZ0/SCDnJ+YFEwhnZrhIIIaVWccEwngp0glEMTMumUAwsvMHCeT8xLxgAuHMDBcJxLAy65hAGC9FOoEoZsYlEwhGdv4ggZyfmBdMIJyZ4SKBGFZmHRMI46VIJxDFzLhkAsHIzh8kkPMT84IJhDMzXCQQw8qsYwJhvBTpBKKYGZdMIBjZ+YMEcn5iXjCBcGaGiwRiWJl1TCCMlyKdQBQz45IJBCM7f5BAzk/MCyYQzsxwkUAMK7OOCYTxUqQTiGJmXDKBYGTnDxLI+Yl5wQTCmRkuEohhZdYxgTBeinQCUcyMSyYQjOz8QQI5PzEvmEA4M8NFAjGszDomEMZLkU4giplxyQSCkZ0/SCDnJ+YFEwhnZrhIIIaVWccEwngp0glEMTMumUAwsvMHCeT8xLxgAuHMDBcJxLAy65hAGC9FOoEoZsYlEwhGdv4ggZyfmBdMIJyZ4SKBGFZmHRMI46VIJxDFzLhkAsHIzh8kkPMT84IJhDMzXCQQw8qsYwJhvBTpBKKYGZdMIBjZ+YMEcn5iXjCBcGaGiwRiWJl1TCCMlyKdQBQz45IJBCM7f5BAzk/MCyYQzsxwkUAMK7OOCYTxUqQTiGJmXDKBYGTnDxLI+Yl5wQTCmRkuEohhZdYxgTBeinQCUcyMSyYQjOz8QQI5PzEvmEA4M8NFAjGszDomEMZLkU4giplxyQSCkZ0/SCDnJ+YFEwhnZrhIIIaVWccEwngp0glEMTMumUAwsvMHCeT8xLxgAuHMDBcJxLAy65hAGC9FOoEoZsYlEwhGdv4ggZyfmBdMIJyZ4SKBGFZmHRMI46VIJxDFzLhkAsHIzh8kkPMT84IJhDMzXCQQw8qsYwJhvBTpBKKYGZdMIBjZ+YMEcn5iXjCBcGaGiwRiWJl1TCCMlyKdQBQz45IJBCM7f5BAzk/MCyYQzsxwkUAMK7OOCYTxUqQTiGJmXDKBYGTnDxLI+Yl5wQTCmRkuEohhZdYxgTBeinQCUcyMSyYQjOz8QQI5PzEvmEA4M8NFAjGszDomEMZLkU4giplxyQSCkZ0/SCDnJ+YFEwhnZrhIIIaVWccEwngp0glEMTMumUAwsvMHCeT8xLxgAuHMDBcJxLAy65hAGC9FOoEoZsYlEwhGdv4ggZyfmBdMIJyZ4SKBGFZmHRMI46VIJxDFzLhkAsHIzh8kkPMT84IJhDMzXCQQw8qsYwJhvBTpBKKYGZdMIBjZ+YMEcn5iXjCBcGaGiwRiWJl1TCCMlyKdQBQz45IJBCM7f5BAzk/MCyYQzsxwkUAMK7OOCYTxUqQTiGJmXDKBYGTnDxLI+Yl5wQTCmRkuEohhZdYxgTBeinQCUcyMSyYQjOz8QQI5PzEvmEA4M8NFAjGszDomEMZLkU4giplxyQSCkZ0/SCDnJ+YFEwhnZrhIIIaVWccEwngp0glEMTMumUAwsvMHCeT8xLxgAuHMDBcJxLAy65hAGC9FOoEoZsYlEwhGdv4ggZyfmBdMIJyZ4SKBGFZmHRMI46VIJxDFzLhkAsHIzh8kkPMT84IJhDMzXCQQw8qsYwJhvBTpBKKYGZdMIBjZ+YMEcn5iXjCBcGaGiwRiWJl1TCCMlyKdQBQz45IJBCM7f5BAzk/MCyYQzsxwkUAMK7OOCYTxUqQTiGJmXDKBYGTnDxLI+Yl5wQTCmRkuEohhZdYxgTBeinQCUcyMSyYQjOz8QQI5PzEvmEA4M8NFAjGszDomEMZLkU4giplxyQSCkZ0/SCDnJ+YFEwhnZrhIIIaVWccEwngp0glEMTMumUAwsvMHCeT8xLxgAuHMDBcJxLAy65hAGC9FOoEoZsYlEwhGdv4ggZyfmBdMIJyZ4SKBGFZmHRMI46VIJxDFzLhkAsHIzh8kkPMT84IJhDMzXCQQw8qsYwJhvBTpBKKYGZdMIBjZ+YMEcn5iXjCBcGaGiwRiWJl1TCCMlyKdQBQz45IJBCM7f5BAzk/MCyYQzsxwkUAMK7OOCYTxUqQTiGJmXDKBYGTnDxLI+Yl5wQTCmRkuEohhZdYxgTBeinQCUcyMSyYQjOz8QQI5PzEvmEA4M8NFAjGszDomEMZLkU4giplxyQSCkZ0/SCDnJ+YFEwhnZrhIIIaVWccEwngp0glEMTMumUAwsvMHCeT8xLxgAuHMDBcJxLAy65hAGC9FOoEoZsYlEwhGdv4ggZyfmBdMIJyZ4SKBGFZmHRMI46VIJxDFzLhkAsHIzh8kkPMT84IJhDMzXCQQw8qsYwJhvBTpBKKYGZdMIBjZ+YMEcn5iXjCBcGaGiwRiWJl1TCCMlyKdQBQz45IJBCM7f5BAzk/MCyYQzsxwkUAMK7OOCYTxUqQTiGJmXDKBYGTnDxLI+Yl5wQTCmRkuEohhZdYxgTBeinQCUcyMSyYQjOz8QQI5PzEvmEA4M8NFAjGszDomEMZLkU4giplxyQSCkZ0/SCDnJ+YFEwhnZrhIIIaVWccEwngp0glEMTMumUAwsvMHCeT8xLxgAuHMDBcJxLAy65hAGC9FOoEoZsYlEwhGdv4ggZyfmBdMIJyZ4SKBGFZmHRMI46VIJxDFzLhkAsHIzh8kkPMT84IJhDMzXCQQw8qsYwJhvBTpBKKYGZdMIBjZ+YMEcn5iXjCBcGaGiwRiWJl1TCCMlyKdQBQz45IJBCM7f5BAzk/MCyYQzsxwkUAMK7OOCYTxUqQTiGJmXDKBYGTnD74Dix532aM5ePcAAAAASUVORK5CYII=\" style=\"opacity: 1;\"/></g></g></g><g class=\"overplot\"/><path class=\"xlines-above crisp\" d=\"M0,0\" style=\"fill: none;\"/><path class=\"ylines-above crisp\" d=\"M0,0\" style=\"fill: none;\"/><g class=\"overlines-above\"/><g class=\"xaxislayer-above\"><g class=\"xtick\"><text text-anchor=\"middle\" x=\"0\" y=\"76.6\" transform=\"translate(216.67000000000002,0)\" style=\"font-family: 'Open Sans', verdana, arial, sans-serif; font-size: 12px; fill: rgb(68, 68, 68); fill-opacity: 1; white-space: pre; opacity: 1;\">age</text></g><g class=\"xtick\"><text text-anchor=\"middle\" x=\"0\" y=\"76.6\" transform=\"translate(350,0)\" style=\"font-family: 'Open Sans', verdana, arial, sans-serif; font-size: 12px; fill: rgb(68, 68, 68); fill-opacity: 1; white-space: pre; opacity: 1;\">total_pages_visited</text></g><g class=\"xtick\"><text text-anchor=\"middle\" x=\"0\" y=\"76.6\" transform=\"translate(483.33,0)\" style=\"font-family: 'Open Sans', verdana, arial, sans-serif; font-size: 12px; fill: rgb(68, 68, 68); fill-opacity: 1; white-space: pre; opacity: 1;\">converted</text></g></g><g class=\"yaxislayer-above\"><g class=\"ytick\"><text text-anchor=\"end\" x=\"149\" y=\"4.199999999999999\" transform=\"translate(0,413.33)\" style=\"font-family: 'Open Sans', verdana, arial, sans-serif; font-size: 12px; fill: rgb(68, 68, 68); fill-opacity: 1; white-space: pre; opacity: 1;\">age  </text></g><g class=\"ytick\"><text text-anchor=\"end\" x=\"149\" y=\"4.199999999999999\" transform=\"translate(0,280)\" style=\"font-family: 'Open Sans', verdana, arial, sans-serif; font-size: 12px; fill: rgb(68, 68, 68); fill-opacity: 1; white-space: pre; opacity: 1;\">total_pages_visited  </text></g><g class=\"ytick\"><text text-anchor=\"end\" x=\"149\" y=\"4.199999999999999\" transform=\"translate(0,146.67000000000002)\" style=\"font-family: 'Open Sans', verdana, arial, sans-serif; font-size: 12px; fill: rgb(68, 68, 68); fill-opacity: 1; white-space: pre; opacity: 1;\">converted  </text></g></g><g class=\"overaxes-above\"/></g></g><g class=\"polarlayer\"/><g class=\"smithlayer\"/><g class=\"ternarylayer\"/><g class=\"geolayer\"/><g class=\"funnelarealayer\"/><g class=\"pielayer\"/><g class=\"iciclelayer\"/><g class=\"treemaplayer\"/><g class=\"sunburstlayer\"/><g class=\"glimages\"/><defs id=\"topdefs-007609\"><g class=\"clips\"/></defs><g class=\"layer-above\"><g class=\"imagelayer\"/><g class=\"shapelayer\"/></g><g class=\"infolayer\"><g class=\"g-gtitle\"><text class=\"gtitle\" x=\"350\" y=\"40\" text-anchor=\"middle\" dy=\"0em\" style=\"font-family: 'Open Sans', verdana, arial, sans-serif; font-size: 17px; fill: rgb(68, 68, 68); opacity: 1; font-weight: normal; white-space: pre;\">Correlation matrix</text></g><g class=\"g-xtitle\"/><g class=\"g-ytitle\"/><g class=\"annotation\" data-index=\"0\" style=\"opacity: 1;\"><g class=\"annotation-text-g\" transform=\"rotate(0,216.67000000000002,413.33)\"><g class=\"cursor-pointer\" transform=\"translate(205,404)\"><rect class=\"bg\" x=\"0.5\" y=\"0.5\" width=\"23\" height=\"18\" style=\"stroke-width: 1px; stroke: rgb(0, 0, 0); stroke-opacity: 0; fill: rgb(0, 0, 0); fill-opacity: 0;\"/><text class=\"annotation-text\" text-anchor=\"middle\" x=\"11.8125\" y=\"14\" style=\"font-family: 'Open Sans', verdana, arial, sans-serif; font-size: 12px; fill: rgb(0, 0, 0); fill-opacity: 1; white-space: pre;\">1.0</text></g></g></g><g class=\"annotation\" data-index=\"1\" style=\"opacity: 1;\"><g class=\"annotation-text-g\" transform=\"rotate(0,350,413.33)\"><g class=\"cursor-pointer\" transform=\"translate(324,404)\"><rect class=\"bg\" x=\"0.5\" y=\"0.5\" width=\"51\" height=\"18\" style=\"stroke-width: 1px; stroke: rgb(0, 0, 0); stroke-opacity: 0; fill: rgb(0, 0, 0); fill-opacity: 0;\"/><text class=\"annotation-text\" text-anchor=\"middle\" x=\"25.984375\" y=\"14\" style=\"font-family: 'Open Sans', verdana, arial, sans-serif; font-size: 12px; fill: rgb(255, 255, 255); fill-opacity: 1; white-space: pre;\">-0.0406</text></g></g></g><g class=\"annotation\" data-index=\"2\" style=\"opacity: 1;\"><g class=\"annotation-text-g\" transform=\"rotate(0,483.33,413.33)\"><g class=\"cursor-pointer\" transform=\"translate(457,404)\"><rect class=\"bg\" x=\"0.5\" y=\"0.5\" width=\"51\" height=\"18\" style=\"stroke-width: 1px; stroke: rgb(0, 0, 0); stroke-opacity: 0; fill: rgb(0, 0, 0); fill-opacity: 0;\"/><text class=\"annotation-text\" text-anchor=\"middle\" x=\"25.984375\" y=\"14\" style=\"font-family: 'Open Sans', verdana, arial, sans-serif; font-size: 12px; fill: rgb(255, 255, 255); fill-opacity: 1; white-space: pre;\">-0.0765</text></g></g></g><g class=\"annotation\" data-index=\"3\" style=\"opacity: 1;\"><g class=\"annotation-text-g\" transform=\"rotate(0,216.67000000000002,280)\"><g class=\"cursor-pointer\" transform=\"translate(191,271)\"><rect class=\"bg\" x=\"0.5\" y=\"0.5\" width=\"51\" height=\"18\" style=\"stroke-width: 1px; stroke: rgb(0, 0, 0); stroke-opacity: 0; fill: rgb(0, 0, 0); fill-opacity: 0;\"/><text class=\"annotation-text\" text-anchor=\"middle\" x=\"25.984375\" y=\"14\" style=\"font-family: 'Open Sans', verdana, arial, sans-serif; font-size: 12px; fill: rgb(255, 255, 255); fill-opacity: 1; white-space: pre;\">-0.0406</text></g></g></g><g class=\"annotation\" data-index=\"4\" style=\"opacity: 1;\"><g class=\"annotation-text-g\" transform=\"rotate(0,350,280)\"><g class=\"cursor-pointer\" transform=\"translate(338,271)\"><rect class=\"bg\" x=\"0.5\" y=\"0.5\" width=\"23\" height=\"18\" style=\"stroke-width: 1px; stroke: rgb(0, 0, 0); stroke-opacity: 0; fill: rgb(0, 0, 0); fill-opacity: 0;\"/><text class=\"annotation-text\" text-anchor=\"middle\" x=\"11.8125\" y=\"14\" style=\"font-family: 'Open Sans', verdana, arial, sans-serif; font-size: 12px; fill: rgb(0, 0, 0); fill-opacity: 1; white-space: pre;\">1.0</text></g></g></g><g class=\"annotation\" data-index=\"5\" style=\"opacity: 1;\"><g class=\"annotation-text-g\" transform=\"rotate(0,483.33,280)\"><g class=\"cursor-pointer\" transform=\"translate(460,271)\"><rect class=\"bg\" x=\"0.5\" y=\"0.5\" width=\"46\" height=\"18\" style=\"stroke-width: 1px; stroke: rgb(0, 0, 0); stroke-opacity: 0; fill: rgb(0, 0, 0); fill-opacity: 0;\"/><text class=\"annotation-text\" text-anchor=\"middle\" x=\"23.265625\" y=\"14\" style=\"font-family: 'Open Sans', verdana, arial, sans-serif; font-size: 12px; fill: rgb(0, 0, 0); fill-opacity: 1; white-space: pre;\">0.5247</text></g></g></g><g class=\"annotation\" data-index=\"6\" style=\"opacity: 1;\"><g class=\"annotation-text-g\" transform=\"rotate(0,216.67000000000002,146.67000000000002)\"><g class=\"cursor-pointer\" transform=\"translate(191,137)\"><rect class=\"bg\" x=\"0.5\" y=\"0.5\" width=\"51\" height=\"18\" style=\"stroke-width: 1px; stroke: rgb(0, 0, 0); stroke-opacity: 0; fill: rgb(0, 0, 0); fill-opacity: 0;\"/><text class=\"annotation-text\" text-anchor=\"middle\" x=\"25.984375\" y=\"14\" style=\"font-family: 'Open Sans', verdana, arial, sans-serif; font-size: 12px; fill: rgb(255, 255, 255); fill-opacity: 1; white-space: pre;\">-0.0765</text></g></g></g><g class=\"annotation\" data-index=\"7\" style=\"opacity: 1;\"><g class=\"annotation-text-g\" transform=\"rotate(0,350,146.67000000000002)\"><g class=\"cursor-pointer\" transform=\"translate(327,137)\"><rect class=\"bg\" x=\"0.5\" y=\"0.5\" width=\"46\" height=\"18\" style=\"stroke-width: 1px; stroke: rgb(0, 0, 0); stroke-opacity: 0; fill: rgb(0, 0, 0); fill-opacity: 0;\"/><text class=\"annotation-text\" text-anchor=\"middle\" x=\"23.265625\" y=\"14\" style=\"font-family: 'Open Sans', verdana, arial, sans-serif; font-size: 12px; fill: rgb(0, 0, 0); fill-opacity: 1; white-space: pre;\">0.5247</text></g></g></g><g class=\"annotation\" data-index=\"8\" style=\"opacity: 1;\"><g class=\"annotation-text-g\" transform=\"rotate(0,483.33,146.67000000000002)\"><g class=\"cursor-pointer\" transform=\"translate(471,137)\"><rect class=\"bg\" x=\"0.5\" y=\"0.5\" width=\"23\" height=\"18\" style=\"stroke-width: 1px; stroke: rgb(0, 0, 0); stroke-opacity: 0; fill: rgb(0, 0, 0); fill-opacity: 0;\"/><text class=\"annotation-text\" text-anchor=\"middle\" x=\"11.8125\" y=\"14\" style=\"font-family: 'Open Sans', verdana, arial, sans-serif; font-size: 12px; fill: rgb(0, 0, 0); fill-opacity: 1; white-space: pre;\">1.0</text></g></g></g></g></svg>"
     },
     "metadata": {},
     "output_type": "display_data"
    }
   ],
   "source": [
    "corr_matrix = round(data_sample.corr(), 4)\n",
    "\n",
    "fig = ff.create_annotated_heatmap(corr_matrix.values,\n",
    "                                  x = corr_matrix.columns.values.tolist(),\n",
    "                                  y = corr_matrix.index.values.tolist(),\n",
    "                                  )\n",
    "fig.update_layout(\n",
    "    title = go.layout.Title(text = 'Correlation matrix', x = 0.5), showlegend = False, \n",
    "            autosize=False, width=700, height=500, margin=dict(l=150, r=150, t=80, b=20)),\n",
    "\n",
    "fig.show()"
   ]
  },
  {
   "cell_type": "code",
   "execution_count": 42,
   "metadata": {},
   "outputs": [
    {
     "data": {
      "image/svg+xml": "<svg class=\"main-svg\" xmlns=\"http://www.w3.org/2000/svg\" xmlns:xlink=\"http://www.w3.org/1999/xlink\" width=\"700\" height=\"500\" style=\"\" viewBox=\"0 0 700 500\"><rect x=\"0\" y=\"0\" width=\"700\" height=\"500\" style=\"fill: rgb(255, 255, 255); fill-opacity: 1;\"/><defs id=\"defs-18c999\"><g class=\"clips\"><clipPath id=\"clip18c999xyplot\" class=\"plotclip\"><rect width=\"530\" height=\"360\"/></clipPath><clipPath class=\"axesclip\" id=\"clip18c999x\"><rect x=\"80\" y=\"0\" width=\"530\" height=\"500\"/></clipPath><clipPath class=\"axesclip\" id=\"clip18c999y\"><rect x=\"0\" y=\"60\" width=\"700\" height=\"360\"/></clipPath><clipPath class=\"axesclip\" id=\"clip18c999xy\"><rect x=\"80\" y=\"60\" width=\"530\" height=\"360\"/></clipPath></g><g class=\"gradients\"/><g class=\"patterns\"/></defs><g class=\"bglayer\"/><g class=\"layer-below\"><g class=\"imagelayer\"/><g class=\"shapelayer\"/></g><g class=\"cartesianlayer\"><g class=\"subplot xy\"><g class=\"layer-subplot\"><g class=\"shapelayer\"/><g class=\"imagelayer\"/></g><g class=\"minor-gridlayer\"><g class=\"x\"/><g class=\"y\"/></g><g class=\"gridlayer\"><g class=\"x\"/><g class=\"y\"><path class=\"ygrid crisp\" transform=\"translate(0,382)\" d=\"M80,0h530\" style=\"stroke: rgb(238, 238, 238); stroke-opacity: 1; stroke-width: 1px;\"/><path class=\"ygrid crisp\" transform=\"translate(0,344)\" d=\"M80,0h530\" style=\"stroke: rgb(238, 238, 238); stroke-opacity: 1; stroke-width: 1px;\"/><path class=\"ygrid crisp\" transform=\"translate(0,306)\" d=\"M80,0h530\" style=\"stroke: rgb(238, 238, 238); stroke-opacity: 1; stroke-width: 1px;\"/><path class=\"ygrid crisp\" transform=\"translate(0,268)\" d=\"M80,0h530\" style=\"stroke: rgb(238, 238, 238); stroke-opacity: 1; stroke-width: 1px;\"/><path class=\"ygrid crisp\" transform=\"translate(0,230)\" d=\"M80,0h530\" style=\"stroke: rgb(238, 238, 238); stroke-opacity: 1; stroke-width: 1px;\"/><path class=\"ygrid crisp\" transform=\"translate(0,192)\" d=\"M80,0h530\" style=\"stroke: rgb(238, 238, 238); stroke-opacity: 1; stroke-width: 1px;\"/><path class=\"ygrid crisp\" transform=\"translate(0,154)\" d=\"M80,0h530\" style=\"stroke: rgb(238, 238, 238); stroke-opacity: 1; stroke-width: 1px;\"/><path class=\"ygrid crisp\" transform=\"translate(0,116)\" d=\"M80,0h530\" style=\"stroke: rgb(238, 238, 238); stroke-opacity: 1; stroke-width: 1px;\"/><path class=\"ygrid crisp\" transform=\"translate(0,78)\" d=\"M80,0h530\" style=\"stroke: rgb(238, 238, 238); stroke-opacity: 1; stroke-width: 1px;\"/></g></g><g class=\"zerolinelayer\"><path class=\"yzl zl crisp\" transform=\"translate(0,420)\" d=\"M80,0h530\" style=\"stroke: rgb(68, 68, 68); stroke-opacity: 1; stroke-width: 1px;\"/></g><path class=\"xlines-below\"/><path class=\"ylines-below\"/><g class=\"overlines-below\"/><g class=\"xaxislayer-below\"/><g class=\"yaxislayer-below\"/><g class=\"overaxes-below\"/><g class=\"plot\" transform=\"translate(80,60)\" clip-path=\"url(#clip18c999xyplot)\"><g class=\"barlayer mlayer\"><g class=\"trace bars\" shape-rendering=\"crispEdges\" style=\"opacity: 1;\"><g class=\"points\"><g class=\"point\"><path d=\"M0,360V265H24.09V360Z\" style=\"vector-effect: non-scaling-stroke; opacity: 1; stroke-width: 0px; fill: rgb(75, 154, 199); fill-opacity: 1;\"/></g><g class=\"point\"><path d=\"M24.09,360V67.4H48.18V360Z\" style=\"vector-effect: non-scaling-stroke; opacity: 1; stroke-width: 0px; fill: rgb(75, 154, 199); fill-opacity: 1;\"/></g><g class=\"point\"><path d=\"M48.18,360V147.2H72.27V360Z\" style=\"vector-effect: non-scaling-stroke; opacity: 1; stroke-width: 0px; fill: rgb(75, 154, 199); fill-opacity: 1;\"/></g><g class=\"point\"><path d=\"M72.27,360V101.6H96.36V360Z\" style=\"vector-effect: non-scaling-stroke; opacity: 1; stroke-width: 0px; fill: rgb(75, 154, 199); fill-opacity: 1;\"/></g><g class=\"point\"><path d=\"M96.36,360V21.8H120.45V360Z\" style=\"vector-effect: non-scaling-stroke; opacity: 1; stroke-width: 0px; fill: rgb(75, 154, 199); fill-opacity: 1;\"/></g><g class=\"point\"><path d=\"M120.45,360V59.8H144.55V360Z\" style=\"vector-effect: non-scaling-stroke; opacity: 1; stroke-width: 0px; fill: rgb(75, 154, 199); fill-opacity: 1;\"/></g><g class=\"point\"><path d=\"M144.55,360V21.8H168.64V360Z\" style=\"vector-effect: non-scaling-stroke; opacity: 1; stroke-width: 0px; fill: rgb(75, 154, 199); fill-opacity: 1;\"/></g><g class=\"point\"><path d=\"M168.64,360V18H192.73V360Z\" style=\"vector-effect: non-scaling-stroke; opacity: 1; stroke-width: 0px; fill: rgb(75, 154, 199); fill-opacity: 1;\"/></g><g class=\"point\"><path d=\"M192.73,360V101.6H216.82V360Z\" style=\"vector-effect: non-scaling-stroke; opacity: 1; stroke-width: 0px; fill: rgb(75, 154, 199); fill-opacity: 1;\"/></g><g class=\"point\"><path d=\"M216.82,360V25.6H240.91V360Z\" style=\"vector-effect: non-scaling-stroke; opacity: 1; stroke-width: 0px; fill: rgb(75, 154, 199); fill-opacity: 1;\"/></g><g class=\"point\"><path d=\"M240.91,360V139.6H265V360Z\" style=\"vector-effect: non-scaling-stroke; opacity: 1; stroke-width: 0px; fill: rgb(75, 154, 199); fill-opacity: 1;\"/></g><g class=\"point\"><path d=\"M265,360V151H289.09V360Z\" style=\"vector-effect: non-scaling-stroke; opacity: 1; stroke-width: 0px; fill: rgb(75, 154, 199); fill-opacity: 1;\"/></g><g class=\"point\"><path d=\"M289.09,360V185.2H313.18V360Z\" style=\"vector-effect: non-scaling-stroke; opacity: 1; stroke-width: 0px; fill: rgb(75, 154, 199); fill-opacity: 1;\"/></g><g class=\"point\"><path d=\"M313.18,360V242.2H337.27V360Z\" style=\"vector-effect: non-scaling-stroke; opacity: 1; stroke-width: 0px; fill: rgb(75, 154, 199); fill-opacity: 1;\"/></g><g class=\"point\"><path d=\"M337.27,360V257.4H361.36V360Z\" style=\"vector-effect: non-scaling-stroke; opacity: 1; stroke-width: 0px; fill: rgb(75, 154, 199); fill-opacity: 1;\"/></g><g class=\"point\"><path d=\"M361.36,360V276.4H385.45V360Z\" style=\"vector-effect: non-scaling-stroke; opacity: 1; stroke-width: 0px; fill: rgb(75, 154, 199); fill-opacity: 1;\"/></g><g class=\"point\"><path d=\"M385.45,360V303H409.55V360Z\" style=\"vector-effect: non-scaling-stroke; opacity: 1; stroke-width: 0px; fill: rgb(75, 154, 199); fill-opacity: 1;\"/></g><g class=\"point\"><path d=\"M409.55,360V329.6H433.64V360Z\" style=\"vector-effect: non-scaling-stroke; opacity: 1; stroke-width: 0px; fill: rgb(75, 154, 199); fill-opacity: 1;\"/></g><g class=\"point\"><path d=\"M433.64,360V348.6H457.73V360Z\" style=\"vector-effect: non-scaling-stroke; opacity: 1; stroke-width: 0px; fill: rgb(75, 154, 199); fill-opacity: 1;\"/></g><g class=\"point\"><path d=\"M457.73,360V356.2H481.82V360Z\" style=\"vector-effect: non-scaling-stroke; opacity: 1; stroke-width: 0px; fill: rgb(75, 154, 199); fill-opacity: 1;\"/></g><g class=\"point\"><path d=\"M481.82,360V348.6H505.91V360Z\" style=\"vector-effect: non-scaling-stroke; opacity: 1; stroke-width: 0px; fill: rgb(75, 154, 199); fill-opacity: 1;\"/></g><g class=\"point\"><path d=\"M505.91,360V352.4H530V360Z\" style=\"vector-effect: non-scaling-stroke; opacity: 1; stroke-width: 0px; fill: rgb(75, 154, 199); fill-opacity: 1;\"/></g></g></g></g></g><g class=\"overplot\"/><path class=\"xlines-above crisp\" d=\"M0,0\" style=\"fill: none;\"/><path class=\"ylines-above crisp\" d=\"M0,0\" style=\"fill: none;\"/><g class=\"overlines-above\"/><g class=\"xaxislayer-above\"><g class=\"xtick\"><text text-anchor=\"middle\" x=\"0\" y=\"433\" transform=\"translate(134.2,0)\" style=\"font-family: 'Open Sans', verdana, arial, sans-serif; font-size: 12px; fill: rgb(68, 68, 68); fill-opacity: 1; white-space: pre; opacity: 1;\">20</text></g><g class=\"xtick\"><text text-anchor=\"middle\" x=\"0\" y=\"433\" style=\"font-family: 'Open Sans', verdana, arial, sans-serif; font-size: 12px; fill: rgb(68, 68, 68); fill-opacity: 1; white-space: pre; opacity: 1;\" transform=\"translate(254.66,0)\">30</text></g><g class=\"xtick\"><text text-anchor=\"middle\" x=\"0\" y=\"433\" style=\"font-family: 'Open Sans', verdana, arial, sans-serif; font-size: 12px; fill: rgb(68, 68, 68); fill-opacity: 1; white-space: pre; opacity: 1;\" transform=\"translate(375.11,0)\">40</text></g><g class=\"xtick\"><text text-anchor=\"middle\" x=\"0\" y=\"433\" style=\"font-family: 'Open Sans', verdana, arial, sans-serif; font-size: 12px; fill: rgb(68, 68, 68); fill-opacity: 1; white-space: pre; opacity: 1;\" transform=\"translate(495.57,0)\">50</text></g></g><g class=\"yaxislayer-above\"><g class=\"ytick\"><text text-anchor=\"end\" x=\"79\" y=\"4.199999999999999\" transform=\"translate(0,420)\" style=\"font-family: 'Open Sans', verdana, arial, sans-serif; font-size: 12px; fill: rgb(68, 68, 68); fill-opacity: 1; white-space: pre; opacity: 1;\">0</text></g><g class=\"ytick\"><text text-anchor=\"end\" x=\"79\" y=\"4.199999999999999\" style=\"font-family: 'Open Sans', verdana, arial, sans-serif; font-size: 12px; fill: rgb(68, 68, 68); fill-opacity: 1; white-space: pre; opacity: 1;\" transform=\"translate(0,382)\">10</text></g><g class=\"ytick\"><text text-anchor=\"end\" x=\"79\" y=\"4.199999999999999\" style=\"font-family: 'Open Sans', verdana, arial, sans-serif; font-size: 12px; fill: rgb(68, 68, 68); fill-opacity: 1; white-space: pre; opacity: 1;\" transform=\"translate(0,344)\">20</text></g><g class=\"ytick\"><text text-anchor=\"end\" x=\"79\" y=\"4.199999999999999\" style=\"font-family: 'Open Sans', verdana, arial, sans-serif; font-size: 12px; fill: rgb(68, 68, 68); fill-opacity: 1; white-space: pre; opacity: 1;\" transform=\"translate(0,306)\">30</text></g><g class=\"ytick\"><text text-anchor=\"end\" x=\"79\" y=\"4.199999999999999\" style=\"font-family: 'Open Sans', verdana, arial, sans-serif; font-size: 12px; fill: rgb(68, 68, 68); fill-opacity: 1; white-space: pre; opacity: 1;\" transform=\"translate(0,268)\">40</text></g><g class=\"ytick\"><text text-anchor=\"end\" x=\"79\" y=\"4.199999999999999\" style=\"font-family: 'Open Sans', verdana, arial, sans-serif; font-size: 12px; fill: rgb(68, 68, 68); fill-opacity: 1; white-space: pre; opacity: 1;\" transform=\"translate(0,230)\">50</text></g><g class=\"ytick\"><text text-anchor=\"end\" x=\"79\" y=\"4.199999999999999\" style=\"font-family: 'Open Sans', verdana, arial, sans-serif; font-size: 12px; fill: rgb(68, 68, 68); fill-opacity: 1; white-space: pre; opacity: 1;\" transform=\"translate(0,192)\">60</text></g><g class=\"ytick\"><text text-anchor=\"end\" x=\"79\" y=\"4.199999999999999\" style=\"font-family: 'Open Sans', verdana, arial, sans-serif; font-size: 12px; fill: rgb(68, 68, 68); fill-opacity: 1; white-space: pre; opacity: 1;\" transform=\"translate(0,154)\">70</text></g><g class=\"ytick\"><text text-anchor=\"end\" x=\"79\" y=\"4.199999999999999\" style=\"font-family: 'Open Sans', verdana, arial, sans-serif; font-size: 12px; fill: rgb(68, 68, 68); fill-opacity: 1; white-space: pre; opacity: 1;\" transform=\"translate(0,116)\">80</text></g><g class=\"ytick\"><text text-anchor=\"end\" x=\"79\" y=\"4.199999999999999\" style=\"font-family: 'Open Sans', verdana, arial, sans-serif; font-size: 12px; fill: rgb(68, 68, 68); fill-opacity: 1; white-space: pre; opacity: 1;\" transform=\"translate(0,78)\">90</text></g></g><g class=\"overaxes-above\"/></g></g><g class=\"polarlayer\"/><g class=\"smithlayer\"/><g class=\"ternarylayer\"/><g class=\"geolayer\"/><g class=\"funnelarealayer\"/><g class=\"pielayer\"/><g class=\"iciclelayer\"/><g class=\"treemaplayer\"/><g class=\"sunburstlayer\"/><g class=\"glimages\"/><defs id=\"topdefs-18c999\"><g class=\"clips\"/><clipPath id=\"legend18c999\"><rect width=\"67\" height=\"48\" x=\"0\" y=\"0\"/></clipPath></defs><g class=\"layer-above\"><g class=\"imagelayer\"/><g class=\"shapelayer\"/></g><g class=\"infolayer\"><g class=\"legend\" pointer-events=\"all\" transform=\"translate(620.6,60)\"><rect class=\"bg\" shape-rendering=\"crispEdges\" width=\"67\" height=\"48\" x=\"0\" y=\"0\" style=\"stroke: rgb(68, 68, 68); stroke-opacity: 1; fill: rgb(255, 255, 255); fill-opacity: 1; stroke-width: 0px;\"/><g class=\"scrollbox\" transform=\"\" clip-path=\"url(#legend18c999)\"><text class=\"legendtitletext\" text-anchor=\"start\" x=\"2\" y=\"18.2\" style=\"font-family: 'Open Sans', verdana, arial, sans-serif; font-size: 14px; fill: rgb(68, 68, 68); fill-opacity: 1; white-space: pre;\">variable</text><g class=\"groups\" transform=\"\"><g class=\"traces\" transform=\"translate(0,32.7)\" style=\"opacity: 1;\"><text class=\"legendtext\" text-anchor=\"start\" x=\"40\" y=\"4.680000000000001\" style=\"font-family: 'Open Sans', verdana, arial, sans-serif; font-size: 12px; fill: rgb(68, 68, 68); fill-opacity: 1; white-space: pre;\">age</text><g class=\"layers\" style=\"opacity: 1;\"><g class=\"legendfill\"/><g class=\"legendlines\"/><g class=\"legendsymbols\"><g class=\"legendpoints\"><path class=\"legendundefined\" d=\"M6,6H-6V-6H6Z\" transform=\"translate(20,0)\" style=\"stroke-width: 0px; fill: rgb(75, 154, 199); fill-opacity: 1;\"/></g></g></g><rect class=\"legendtoggle\" x=\"0\" y=\"-9.5\" width=\"61.84375\" height=\"19\" style=\"fill: rgb(0, 0, 0); fill-opacity: 0;\"/></g></g></g><rect class=\"scrollbar\" rx=\"20\" ry=\"3\" width=\"0\" height=\"0\" x=\"0\" y=\"0\" style=\"fill: rgb(128, 139, 164); fill-opacity: 1;\"/></g><g class=\"g-gtitle\"/><g class=\"g-xtitle\"><text class=\"xtitle\" x=\"345\" y=\"472\" text-anchor=\"middle\" style=\"font-family: 'Open Sans', verdana, arial, sans-serif; font-size: 14px; fill: rgb(68, 68, 68); opacity: 1; font-weight: normal; white-space: pre;\">value</text></g><g class=\"g-ytitle\"><text class=\"ytitle\" transform=\"rotate(-90,42,240)\" x=\"42\" y=\"240\" text-anchor=\"middle\" style=\"font-family: 'Open Sans', verdana, arial, sans-serif; font-size: 14px; fill: rgb(68, 68, 68); opacity: 1; font-weight: normal; white-space: pre;\">count</text></g></g></svg>"
     },
     "metadata": {},
     "output_type": "display_data"
    },
    {
     "data": {
      "image/svg+xml": "<svg class=\"main-svg\" xmlns=\"http://www.w3.org/2000/svg\" xmlns:xlink=\"http://www.w3.org/1999/xlink\" width=\"700\" height=\"500\" style=\"\" viewBox=\"0 0 700 500\"><rect x=\"0\" y=\"0\" width=\"700\" height=\"500\" style=\"fill: rgb(255, 255, 255); fill-opacity: 1;\"/><defs id=\"defs-995566\"><g class=\"clips\"><clipPath id=\"clip995566xyplot\" class=\"plotclip\"><rect width=\"436\" height=\"360\"/></clipPath><clipPath class=\"axesclip\" id=\"clip995566x\"><rect x=\"80\" y=\"0\" width=\"436\" height=\"500\"/></clipPath><clipPath class=\"axesclip\" id=\"clip995566y\"><rect x=\"0\" y=\"60\" width=\"700\" height=\"360\"/></clipPath><clipPath class=\"axesclip\" id=\"clip995566xy\"><rect x=\"80\" y=\"60\" width=\"436\" height=\"360\"/></clipPath></g><g class=\"gradients\"/><g class=\"patterns\"/></defs><g class=\"bglayer\"/><g class=\"layer-below\"><g class=\"imagelayer\"/><g class=\"shapelayer\"/></g><g class=\"cartesianlayer\"><g class=\"subplot xy\"><g class=\"layer-subplot\"><g class=\"shapelayer\"/><g class=\"imagelayer\"/></g><g class=\"minor-gridlayer\"><g class=\"x\"/><g class=\"y\"/></g><g class=\"gridlayer\"><g class=\"x\"/><g class=\"y\"><path class=\"ygrid crisp\" transform=\"translate(0,371.14)\" d=\"M80,0h436\" style=\"stroke: rgb(238, 238, 238); stroke-opacity: 1; stroke-width: 1px;\"/><path class=\"ygrid crisp\" transform=\"translate(0,322.29)\" d=\"M80,0h436\" style=\"stroke: rgb(238, 238, 238); stroke-opacity: 1; stroke-width: 1px;\"/><path class=\"ygrid crisp\" transform=\"translate(0,273.43)\" d=\"M80,0h436\" style=\"stroke: rgb(238, 238, 238); stroke-opacity: 1; stroke-width: 1px;\"/><path class=\"ygrid crisp\" transform=\"translate(0,224.57)\" d=\"M80,0h436\" style=\"stroke: rgb(238, 238, 238); stroke-opacity: 1; stroke-width: 1px;\"/><path class=\"ygrid crisp\" transform=\"translate(0,175.70999999999998)\" d=\"M80,0h436\" style=\"stroke: rgb(238, 238, 238); stroke-opacity: 1; stroke-width: 1px;\"/><path class=\"ygrid crisp\" transform=\"translate(0,126.86)\" d=\"M80,0h436\" style=\"stroke: rgb(238, 238, 238); stroke-opacity: 1; stroke-width: 1px;\"/><path class=\"ygrid crisp\" transform=\"translate(0,78)\" d=\"M80,0h436\" style=\"stroke: rgb(238, 238, 238); stroke-opacity: 1; stroke-width: 1px;\"/></g></g><g class=\"zerolinelayer\"><path class=\"yzl zl crisp\" transform=\"translate(0,420)\" d=\"M80,0h436\" style=\"stroke: rgb(68, 68, 68); stroke-opacity: 1; stroke-width: 1px;\"/></g><path class=\"xlines-below\"/><path class=\"ylines-below\"/><g class=\"overlines-below\"/><g class=\"xaxislayer-below\"/><g class=\"yaxislayer-below\"/><g class=\"overaxes-below\"/><g class=\"plot\" transform=\"translate(80,60)\" clip-path=\"url(#clip995566xyplot)\"><g class=\"barlayer mlayer\"><g class=\"trace bars\" shape-rendering=\"crispEdges\" style=\"opacity: 1;\"><g class=\"points\"><g class=\"point\"><path d=\"M0,360V76.63H15.03V360Z\" style=\"vector-effect: non-scaling-stroke; opacity: 1; stroke-width: 0px; fill: rgb(75, 154, 199); fill-opacity: 1;\"/></g><g class=\"point\"><path d=\"M15.03,360V27.77H30.07V360Z\" style=\"vector-effect: non-scaling-stroke; opacity: 1; stroke-width: 0px; fill: rgb(75, 154, 199); fill-opacity: 1;\"/></g><g class=\"point\"><path d=\"M30.07,360V18H45.1V360Z\" style=\"vector-effect: non-scaling-stroke; opacity: 1; stroke-width: 0px; fill: rgb(75, 154, 199); fill-opacity: 1;\"/></g><g class=\"point\"><path d=\"M45.1,360V32.66H60.14V360Z\" style=\"vector-effect: non-scaling-stroke; opacity: 1; stroke-width: 0px; fill: rgb(75, 154, 199); fill-opacity: 1;\"/></g><g class=\"point\"><path d=\"M60.14,360V57.09H75.17V360Z\" style=\"vector-effect: non-scaling-stroke; opacity: 1; stroke-width: 0px; fill: rgb(75, 154, 199); fill-opacity: 1;\"/></g><g class=\"point\"><path d=\"M75.17,360V137.7H90.21V360Z\" style=\"vector-effect: non-scaling-stroke; opacity: 1; stroke-width: 0px; fill: rgb(75, 154, 199); fill-opacity: 1;\"/></g><g class=\"point\"><path d=\"M90.21,360V179.23H105.24V360Z\" style=\"vector-effect: non-scaling-stroke; opacity: 1; stroke-width: 0px; fill: rgb(75, 154, 199); fill-opacity: 1;\"/></g><g class=\"point\"><path d=\"M105.24,360V237.86H120.28V360Z\" style=\"vector-effect: non-scaling-stroke; opacity: 1; stroke-width: 0px; fill: rgb(75, 154, 199); fill-opacity: 1;\"/></g><g class=\"point\"><path d=\"M120.28,360V242.74H135.31V360Z\" style=\"vector-effect: non-scaling-stroke; opacity: 1; stroke-width: 0px; fill: rgb(75, 154, 199); fill-opacity: 1;\"/></g><g class=\"point\"><path d=\"M135.31,360V301.37H150.34V360Z\" style=\"vector-effect: non-scaling-stroke; opacity: 1; stroke-width: 0px; fill: rgb(75, 154, 199); fill-opacity: 1;\"/></g><g class=\"point\"><path d=\"M150.34,360V320.91H165.38V360Z\" style=\"vector-effect: non-scaling-stroke; opacity: 1; stroke-width: 0px; fill: rgb(75, 154, 199); fill-opacity: 1;\"/></g><g class=\"point\"><path d=\"M165.38,360V323.36H180.41V360Z\" style=\"vector-effect: non-scaling-stroke; opacity: 1; stroke-width: 0px; fill: rgb(75, 154, 199); fill-opacity: 1;\"/></g><g class=\"point\"><path d=\"M180.41,360V342.9H195.45V360Z\" style=\"vector-effect: non-scaling-stroke; opacity: 1; stroke-width: 0px; fill: rgb(75, 154, 199); fill-opacity: 1;\"/></g><g class=\"point\"><path d=\"M195.45,360V342.9H210.48V360Z\" style=\"vector-effect: non-scaling-stroke; opacity: 1; stroke-width: 0px; fill: rgb(75, 154, 199); fill-opacity: 1;\"/></g><g class=\"point\"><path d=\"M210.48,360V342.9H225.52V360Z\" style=\"vector-effect: non-scaling-stroke; opacity: 1; stroke-width: 0px; fill: rgb(75, 154, 199); fill-opacity: 1;\"/></g><g class=\"point\"><path d=\"M225.52,360V350.23H240.55V360Z\" style=\"vector-effect: non-scaling-stroke; opacity: 1; stroke-width: 0px; fill: rgb(75, 154, 199); fill-opacity: 1;\"/></g><g class=\"point\"><path d=\"M240.55,360V357.56H255.59V360Z\" style=\"vector-effect: non-scaling-stroke; opacity: 1; stroke-width: 0px; fill: rgb(75, 154, 199); fill-opacity: 1;\"/></g><g class=\"point\"><path d=\"M255.59,360V355.11H270.62V360Z\" style=\"vector-effect: non-scaling-stroke; opacity: 1; stroke-width: 0px; fill: rgb(75, 154, 199); fill-opacity: 1;\"/></g><g class=\"point\"><path d=\"M270.62,360V352.67H285.66V360Z\" style=\"vector-effect: non-scaling-stroke; opacity: 1; stroke-width: 0px; fill: rgb(75, 154, 199); fill-opacity: 1;\"/></g><g class=\"point\"><path d=\"M0,0Z\" style=\"vector-effect: non-scaling-stroke; opacity: 1; stroke-width: 0px; fill: rgb(75, 154, 199); fill-opacity: 1;\"/></g><g class=\"point\"><path d=\"M0,0Z\" style=\"vector-effect: non-scaling-stroke; opacity: 1; stroke-width: 0px; fill: rgb(75, 154, 199); fill-opacity: 1;\"/></g><g class=\"point\"><path d=\"M0,0Z\" style=\"vector-effect: non-scaling-stroke; opacity: 1; stroke-width: 0px; fill: rgb(75, 154, 199); fill-opacity: 1;\"/></g><g class=\"point\"><path d=\"M0,0Z\" style=\"vector-effect: non-scaling-stroke; opacity: 1; stroke-width: 0px; fill: rgb(75, 154, 199); fill-opacity: 1;\"/></g><g class=\"point\"><path d=\"M0,0Z\" style=\"vector-effect: non-scaling-stroke; opacity: 1; stroke-width: 0px; fill: rgb(75, 154, 199); fill-opacity: 1;\"/></g><g class=\"point\"><path d=\"M0,0Z\" style=\"vector-effect: non-scaling-stroke; opacity: 1; stroke-width: 0px; fill: rgb(75, 154, 199); fill-opacity: 1;\"/></g><g class=\"point\"><path d=\"M0,0Z\" style=\"vector-effect: non-scaling-stroke; opacity: 1; stroke-width: 0px; fill: rgb(75, 154, 199); fill-opacity: 1;\"/></g><g class=\"point\"><path d=\"M0,0Z\" style=\"vector-effect: non-scaling-stroke; opacity: 1; stroke-width: 0px; fill: rgb(75, 154, 199); fill-opacity: 1;\"/></g><g class=\"point\"><path d=\"M0,0Z\" style=\"vector-effect: non-scaling-stroke; opacity: 1; stroke-width: 0px; fill: rgb(75, 154, 199); fill-opacity: 1;\"/></g><g class=\"point\"><path d=\"M420.97,360V357.56H436V360Z\" style=\"vector-effect: non-scaling-stroke; opacity: 1; stroke-width: 0px; fill: rgb(75, 154, 199); fill-opacity: 1;\"/></g></g></g></g></g><g class=\"overplot\"/><path class=\"xlines-above crisp\" d=\"M0,0\" style=\"fill: none;\"/><path class=\"ylines-above crisp\" d=\"M0,0\" style=\"fill: none;\"/><g class=\"overlines-above\"/><g class=\"xaxislayer-above\"><g class=\"xtick\"><text text-anchor=\"middle\" x=\"0\" y=\"433\" transform=\"translate(147.66,0)\" style=\"font-family: 'Open Sans', verdana, arial, sans-serif; font-size: 12px; fill: rgb(68, 68, 68); fill-opacity: 1; white-space: pre; opacity: 1;\">5</text></g><g class=\"xtick\"><text text-anchor=\"middle\" x=\"0\" y=\"433\" style=\"font-family: 'Open Sans', verdana, arial, sans-serif; font-size: 12px; fill: rgb(68, 68, 68); fill-opacity: 1; white-space: pre; opacity: 1;\" transform=\"translate(222.83,0)\">10</text></g><g class=\"xtick\"><text text-anchor=\"middle\" x=\"0\" y=\"433\" style=\"font-family: 'Open Sans', verdana, arial, sans-serif; font-size: 12px; fill: rgb(68, 68, 68); fill-opacity: 1; white-space: pre; opacity: 1;\" transform=\"translate(298,0)\">15</text></g><g class=\"xtick\"><text text-anchor=\"middle\" x=\"0\" y=\"433\" style=\"font-family: 'Open Sans', verdana, arial, sans-serif; font-size: 12px; fill: rgb(68, 68, 68); fill-opacity: 1; white-space: pre; opacity: 1;\" transform=\"translate(373.17,0)\">20</text></g><g class=\"xtick\"><text text-anchor=\"middle\" x=\"0\" y=\"433\" style=\"font-family: 'Open Sans', verdana, arial, sans-serif; font-size: 12px; fill: rgb(68, 68, 68); fill-opacity: 1; white-space: pre; opacity: 1;\" transform=\"translate(448.34,0)\">25</text></g></g><g class=\"yaxislayer-above\"><g class=\"ytick\"><text text-anchor=\"end\" x=\"79\" y=\"4.199999999999999\" transform=\"translate(0,420)\" style=\"font-family: 'Open Sans', verdana, arial, sans-serif; font-size: 12px; fill: rgb(68, 68, 68); fill-opacity: 1; white-space: pre; opacity: 1;\">0</text></g><g class=\"ytick\"><text text-anchor=\"end\" x=\"79\" y=\"4.199999999999999\" style=\"font-family: 'Open Sans', verdana, arial, sans-serif; font-size: 12px; fill: rgb(68, 68, 68); fill-opacity: 1; white-space: pre; opacity: 1;\" transform=\"translate(0,371.14)\">20</text></g><g class=\"ytick\"><text text-anchor=\"end\" x=\"79\" y=\"4.199999999999999\" style=\"font-family: 'Open Sans', verdana, arial, sans-serif; font-size: 12px; fill: rgb(68, 68, 68); fill-opacity: 1; white-space: pre; opacity: 1;\" transform=\"translate(0,322.29)\">40</text></g><g class=\"ytick\"><text text-anchor=\"end\" x=\"79\" y=\"4.199999999999999\" style=\"font-family: 'Open Sans', verdana, arial, sans-serif; font-size: 12px; fill: rgb(68, 68, 68); fill-opacity: 1; white-space: pre; opacity: 1;\" transform=\"translate(0,273.43)\">60</text></g><g class=\"ytick\"><text text-anchor=\"end\" x=\"79\" y=\"4.199999999999999\" style=\"font-family: 'Open Sans', verdana, arial, sans-serif; font-size: 12px; fill: rgb(68, 68, 68); fill-opacity: 1; white-space: pre; opacity: 1;\" transform=\"translate(0,224.57)\">80</text></g><g class=\"ytick\"><text text-anchor=\"end\" x=\"79\" y=\"4.199999999999999\" style=\"font-family: 'Open Sans', verdana, arial, sans-serif; font-size: 12px; fill: rgb(68, 68, 68); fill-opacity: 1; white-space: pre; opacity: 1;\" transform=\"translate(0,175.70999999999998)\">100</text></g><g class=\"ytick\"><text text-anchor=\"end\" x=\"79\" y=\"4.199999999999999\" style=\"font-family: 'Open Sans', verdana, arial, sans-serif; font-size: 12px; fill: rgb(68, 68, 68); fill-opacity: 1; white-space: pre; opacity: 1;\" transform=\"translate(0,126.86)\">120</text></g><g class=\"ytick\"><text text-anchor=\"end\" x=\"79\" y=\"4.199999999999999\" style=\"font-family: 'Open Sans', verdana, arial, sans-serif; font-size: 12px; fill: rgb(68, 68, 68); fill-opacity: 1; white-space: pre; opacity: 1;\" transform=\"translate(0,78)\">140</text></g></g><g class=\"overaxes-above\"/></g></g><g class=\"polarlayer\"/><g class=\"smithlayer\"/><g class=\"ternarylayer\"/><g class=\"geolayer\"/><g class=\"funnelarealayer\"/><g class=\"pielayer\"/><g class=\"iciclelayer\"/><g class=\"treemaplayer\"/><g class=\"sunburstlayer\"/><g class=\"glimages\"/><defs id=\"topdefs-995566\"><g class=\"clips\"/><clipPath id=\"legend995566\"><rect width=\"163\" height=\"48\" x=\"0\" y=\"0\"/></clipPath></defs><g class=\"layer-above\"><g class=\"imagelayer\"/><g class=\"shapelayer\"/></g><g class=\"infolayer\"><g class=\"legend\" pointer-events=\"all\" transform=\"translate(524.72,60)\"><rect class=\"bg\" shape-rendering=\"crispEdges\" width=\"163\" height=\"48\" x=\"0\" y=\"0\" style=\"stroke: rgb(68, 68, 68); stroke-opacity: 1; fill: rgb(255, 255, 255); fill-opacity: 1; stroke-width: 0px;\"/><g class=\"scrollbox\" transform=\"\" clip-path=\"url(#legend995566)\"><text class=\"legendtitletext\" text-anchor=\"start\" x=\"2\" y=\"18.2\" style=\"font-family: 'Open Sans', verdana, arial, sans-serif; font-size: 14px; fill: rgb(68, 68, 68); fill-opacity: 1; white-space: pre;\">variable</text><g class=\"groups\" transform=\"\"><g class=\"traces\" transform=\"translate(0,32.7)\" style=\"opacity: 1;\"><text class=\"legendtext\" text-anchor=\"start\" x=\"40\" y=\"4.680000000000001\" style=\"font-family: 'Open Sans', verdana, arial, sans-serif; font-size: 12px; fill: rgb(68, 68, 68); fill-opacity: 1; white-space: pre;\">total_pages_visited</text><g class=\"layers\" style=\"opacity: 1;\"><g class=\"legendfill\"/><g class=\"legendlines\"/><g class=\"legendsymbols\"><g class=\"legendpoints\"><path class=\"legendundefined\" d=\"M6,6H-6V-6H6Z\" transform=\"translate(20,0)\" style=\"stroke-width: 0px; fill: rgb(75, 154, 199); fill-opacity: 1;\"/></g></g></g><rect class=\"legendtoggle\" x=\"0\" y=\"-9.5\" width=\"157.359375\" height=\"19\" style=\"fill: rgb(0, 0, 0); fill-opacity: 0;\"/></g></g></g><rect class=\"scrollbar\" rx=\"20\" ry=\"3\" width=\"0\" height=\"0\" x=\"0\" y=\"0\" style=\"fill: rgb(128, 139, 164); fill-opacity: 1;\"/></g><g class=\"g-gtitle\"/><g class=\"g-xtitle\"><text class=\"xtitle\" x=\"298\" y=\"472\" text-anchor=\"middle\" style=\"font-family: 'Open Sans', verdana, arial, sans-serif; font-size: 14px; fill: rgb(68, 68, 68); opacity: 1; font-weight: normal; white-space: pre;\">value</text></g><g class=\"g-ytitle\"><text class=\"ytitle\" transform=\"rotate(-90,42,240)\" x=\"42\" y=\"240\" text-anchor=\"middle\" style=\"font-family: 'Open Sans', verdana, arial, sans-serif; font-size: 14px; fill: rgb(68, 68, 68); opacity: 1; font-weight: normal; white-space: pre;\">count</text></g></g></svg>"
     },
     "metadata": {},
     "output_type": "display_data"
    }
   ],
   "source": [
    "# Quantitative Values\n",
    "for quantitative_value in ['age', 'total_pages_visited']:\n",
    "    fig = px.histogram(data_sample[quantitative_value])\n",
    "    fig.show()\n",
    "\n",
    "# Qualitative Values \n",
    "for qualitative_value in ['country', 'new_user','source']:\n",
    "    cat_data = data_sample.groupby(qualitative_value)['converted'].sum()\n",
    "    fig = px.bar(x=cat_data.index, y=cat_data, labels=dict(x=\"\", y=\"\"))\n",
    "    fig.show()"
   ]
  }
 ],
 "metadata": {
  "kernelspec": {
   "display_name": "Python 3.9.5 64-bit",
   "language": "python",
   "name": "python3"
  },
  "language_info": {
   "codemirror_mode": {
    "name": "ipython",
    "version": 3
   },
   "file_extension": ".py",
   "mimetype": "text/x-python",
   "name": "python",
   "nbconvert_exporter": "python",
   "pygments_lexer": "ipython3",
   "version": "3.9.5"
  },
  "orig_nbformat": 4,
  "vscode": {
   "interpreter": {
    "hash": "7812ea015bdcee6f23a998adcdd2ef97c151c0c241b7b7070987d9313e41299d"
   }
  }
 },
 "nbformat": 4,
 "nbformat_minor": 2
}
