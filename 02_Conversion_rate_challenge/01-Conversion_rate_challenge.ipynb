{
 "cells": [
  {
   "cell_type": "markdown",
   "metadata": {},
   "source": [
    "# Import libraries"
   ]
  },
  {
   "cell_type": "code",
   "execution_count": 44,
   "metadata": {
    "colab": {},
    "colab_type": "code",
    "id": "AGhdl7Bt2xZd"
   },
   "outputs": [],
   "source": [
    "import pandas as pd\n",
    "import numpy as np\n",
    "\n",
    "import seaborn as sns\n",
    "\n",
    "from sklearn.model_selection import train_test_split\n",
    "from sklearn.impute import SimpleImputer\n",
    "from sklearn.preprocessing import StandardScaler\n",
    "from sklearn.compose import ColumnTransformer\n",
    "from sklearn.linear_model import LogisticRegression\n",
    "from sklearn.metrics import f1_score, confusion_matrix\n",
    "\n",
    "import matplotlib.pyplot as plt\n",
    "import plotly.express as px\n",
    "import plotly.figure_factory as ff\n",
    "import plotly.graph_objects as go\n",
    "import plotly.io as pio\n",
    "# setting Jedha color palette as default\n",
    "pio.templates[\"jedha\"] = go.layout.Template(\n",
    "    layout_colorway=[\"#4B9AC7\", \"#4BE8E0\", \"#9DD4F3\", \"#97FBF6\", \"#2A7FAF\", \"#23B1AB\", \"#0E3449\", \"#015955\"]\n",
    ")\n",
    "pio.templates.default = \"jedha\"\n",
    "pio.renderers.default = \"svg\" # to be replaced by \"iframe\" if working on JULIE\n",
    "from IPython.display import display"
   ]
  },
  {
   "cell_type": "markdown",
   "metadata": {
    "colab_type": "text",
    "id": "LHgro65rxKF7"
   },
   "source": [
    "# Read file with labels"
   ]
  },
  {
   "cell_type": "code",
   "execution_count": 45,
   "metadata": {
    "colab": {
     "base_uri": "https://localhost:8080/",
     "height": 34
    },
    "colab_type": "code",
    "id": "W1AU8AH8u0qd",
    "outputId": "00698a97-027b-493b-a2e4-33fdcc295abb"
   },
   "outputs": [
    {
     "name": "stdout",
     "output_type": "stream",
     "text": [
      "Set with labels (our train+test) : (284580, 6)\n"
     ]
    }
   ],
   "source": [
    "data = pd.read_csv('src/conversion_data_train.csv')\n",
    "print('Set with labels (our train+test) :', data.shape)"
   ]
  },
  {
   "cell_type": "code",
   "execution_count": 46,
   "metadata": {},
   "outputs": [
    {
     "data": {
      "text/html": [
       "<div>\n",
       "<style scoped>\n",
       "    .dataframe tbody tr th:only-of-type {\n",
       "        vertical-align: middle;\n",
       "    }\n",
       "\n",
       "    .dataframe tbody tr th {\n",
       "        vertical-align: top;\n",
       "    }\n",
       "\n",
       "    .dataframe thead th {\n",
       "        text-align: right;\n",
       "    }\n",
       "</style>\n",
       "<table border=\"1\" class=\"dataframe\">\n",
       "  <thead>\n",
       "    <tr style=\"text-align: right;\">\n",
       "      <th></th>\n",
       "      <th>country</th>\n",
       "      <th>age</th>\n",
       "      <th>new_user</th>\n",
       "      <th>source</th>\n",
       "      <th>total_pages_visited</th>\n",
       "      <th>converted</th>\n",
       "    </tr>\n",
       "  </thead>\n",
       "  <tbody>\n",
       "    <tr>\n",
       "      <th>0</th>\n",
       "      <td>China</td>\n",
       "      <td>22</td>\n",
       "      <td>1</td>\n",
       "      <td>Direct</td>\n",
       "      <td>2</td>\n",
       "      <td>0</td>\n",
       "    </tr>\n",
       "    <tr>\n",
       "      <th>1</th>\n",
       "      <td>UK</td>\n",
       "      <td>21</td>\n",
       "      <td>1</td>\n",
       "      <td>Ads</td>\n",
       "      <td>3</td>\n",
       "      <td>0</td>\n",
       "    </tr>\n",
       "    <tr>\n",
       "      <th>2</th>\n",
       "      <td>Germany</td>\n",
       "      <td>20</td>\n",
       "      <td>0</td>\n",
       "      <td>Seo</td>\n",
       "      <td>14</td>\n",
       "      <td>1</td>\n",
       "    </tr>\n",
       "    <tr>\n",
       "      <th>3</th>\n",
       "      <td>US</td>\n",
       "      <td>23</td>\n",
       "      <td>1</td>\n",
       "      <td>Seo</td>\n",
       "      <td>3</td>\n",
       "      <td>0</td>\n",
       "    </tr>\n",
       "    <tr>\n",
       "      <th>4</th>\n",
       "      <td>US</td>\n",
       "      <td>28</td>\n",
       "      <td>1</td>\n",
       "      <td>Direct</td>\n",
       "      <td>3</td>\n",
       "      <td>0</td>\n",
       "    </tr>\n",
       "  </tbody>\n",
       "</table>\n",
       "</div>"
      ],
      "text/plain": [
       "   country  age  new_user  source  total_pages_visited  converted\n",
       "0    China   22         1  Direct                    2          0\n",
       "1       UK   21         1     Ads                    3          0\n",
       "2  Germany   20         0     Seo                   14          1\n",
       "3       US   23         1     Seo                    3          0\n",
       "4       US   28         1  Direct                    3          0"
      ]
     },
     "execution_count": 46,
     "metadata": {},
     "output_type": "execute_result"
    }
   ],
   "source": [
    "data.head()"
   ]
  },
  {
   "cell_type": "markdown",
   "metadata": {
    "colab_type": "text",
    "id": "0XwjKBc63B1n"
   },
   "source": [
    "# Explore dataset"
   ]
  },
  {
   "cell_type": "code",
   "execution_count": 47,
   "metadata": {
    "colab": {},
    "colab_type": "code",
    "id": "NM0feCss5sLZ"
   },
   "outputs": [],
   "source": [
    "# The dataset is quite big : you must create a sample of the dataset before making any visualizations !\n",
    "data_sample = data.sample(1000)"
   ]
  },
  {
   "cell_type": "code",
   "execution_count": 48,
   "metadata": {},
   "outputs": [
    {
     "data": {
      "image/svg+xml": "<svg class=\"main-svg\" xmlns=\"http://www.w3.org/2000/svg\" xmlns:xlink=\"http://www.w3.org/1999/xlink\" width=\"700\" height=\"500\" style=\"\" viewBox=\"0 0 700 500\"><rect x=\"0\" y=\"0\" width=\"700\" height=\"500\" style=\"fill: rgb(255, 255, 255); fill-opacity: 1;\"/><defs id=\"defs-85bb78\"><g class=\"clips\"><clipPath id=\"clip85bb78xyplot\" class=\"plotclip\"><rect width=\"400\" height=\"400\"/></clipPath><clipPath class=\"axesclip\" id=\"clip85bb78x\"><rect x=\"150\" y=\"0\" width=\"400\" height=\"500\"/></clipPath><clipPath class=\"axesclip\" id=\"clip85bb78y\"><rect x=\"0\" y=\"80\" width=\"700\" height=\"400\"/></clipPath><clipPath class=\"axesclip\" id=\"clip85bb78xy\"><rect x=\"150\" y=\"80\" width=\"400\" height=\"400\"/></clipPath></g><g class=\"gradients\"/><g class=\"patterns\"/></defs><g class=\"bglayer\"/><g class=\"layer-below\"><g class=\"imagelayer\"/><g class=\"shapelayer\"/></g><g class=\"cartesianlayer\"><g class=\"subplot xy\"><g class=\"layer-subplot\"><g class=\"shapelayer\"/><g class=\"imagelayer\"/></g><g class=\"minor-gridlayer\"><g class=\"x\"/><g class=\"y\"/></g><g class=\"gridlayer\"><g class=\"x\"><path class=\"xgrid crisp\" transform=\"translate(200,0)\" d=\"M0,80v400\" style=\"stroke: rgb(0, 0, 0); stroke-opacity: 1; stroke-width: 1px;\"/><path class=\"xgrid crisp\" transform=\"translate(300,0)\" d=\"M0,80v400\" style=\"stroke: rgb(0, 0, 0); stroke-opacity: 1; stroke-width: 1px;\"/><path class=\"xgrid crisp\" transform=\"translate(400,0)\" d=\"M0,80v400\" style=\"stroke: rgb(0, 0, 0); stroke-opacity: 1; stroke-width: 1px;\"/><path class=\"xgrid crisp\" transform=\"translate(500,0)\" d=\"M0,80v400\" style=\"stroke: rgb(0, 0, 0); stroke-opacity: 1; stroke-width: 1px;\"/></g><g class=\"y\"><path class=\"ygrid crisp\" transform=\"translate(0,430)\" d=\"M150,0h400\" style=\"stroke: rgb(238, 238, 238); stroke-opacity: 1; stroke-width: 1px;\"/><path class=\"ygrid crisp\" transform=\"translate(0,330)\" d=\"M150,0h400\" style=\"stroke: rgb(238, 238, 238); stroke-opacity: 1; stroke-width: 1px;\"/><path class=\"ygrid crisp\" transform=\"translate(0,230)\" d=\"M150,0h400\" style=\"stroke: rgb(238, 238, 238); stroke-opacity: 1; stroke-width: 1px;\"/><path class=\"ygrid crisp\" transform=\"translate(0,130)\" d=\"M150,0h400\" style=\"stroke: rgb(238, 238, 238); stroke-opacity: 1; stroke-width: 1px;\"/></g></g><g class=\"zerolinelayer\"/><path class=\"xlines-below\"/><path class=\"ylines-below\"/><g class=\"overlines-below\"/><g class=\"xaxislayer-below\"/><g class=\"yaxislayer-below\"/><g class=\"overaxes-below\"/><g class=\"plot\" transform=\"translate(150,80)\" clip-path=\"url(#clip85bb78xyplot)\"><g class=\"heatmaplayer mlayer\"><g class=\"hm\"><image xmlns=\"http://www.w3.org/2000/svg\" preserveAspectRatio=\"none\" height=\"400\" width=\"400\" x=\"0\" y=\"0\" xlink:href=\"data:image/png;base64,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\" style=\"opacity: 1;\"/></g></g></g><g class=\"overplot\"/><path class=\"xlines-above crisp\" d=\"M0,0\" style=\"fill: none;\"/><path class=\"ylines-above crisp\" d=\"M0,0\" style=\"fill: none;\"/><g class=\"overlines-above\"/><g class=\"xaxislayer-above\"><g class=\"xtick\"><text text-anchor=\"middle\" x=\"0\" y=\"76.6\" transform=\"translate(200,0)\" style=\"font-family: 'Open Sans', verdana, arial, sans-serif; font-size: 12px; fill: rgb(68, 68, 68); fill-opacity: 1; white-space: pre; opacity: 1;\">age</text></g><g class=\"xtick\"><text text-anchor=\"middle\" x=\"0\" y=\"76.6\" transform=\"translate(300,0)\" style=\"font-family: 'Open Sans', verdana, arial, sans-serif; font-size: 12px; fill: rgb(68, 68, 68); fill-opacity: 1; white-space: pre; opacity: 1;\">new_user</text></g><g class=\"xtick\"><text text-anchor=\"middle\" x=\"0\" y=\"76.6\" transform=\"translate(400,0)\" style=\"font-family: 'Open Sans', verdana, arial, sans-serif; font-size: 12px; fill: rgb(68, 68, 68); fill-opacity: 1; white-space: pre; opacity: 1;\">total_pages_visited</text></g><g class=\"xtick\"><text text-anchor=\"middle\" x=\"0\" y=\"76.6\" transform=\"translate(500,0)\" style=\"font-family: 'Open Sans', verdana, arial, sans-serif; font-size: 12px; fill: rgb(68, 68, 68); fill-opacity: 1; white-space: pre; opacity: 1;\">converted</text></g></g><g class=\"yaxislayer-above\"><g class=\"ytick\"><text text-anchor=\"end\" x=\"149\" y=\"4.199999999999999\" transform=\"translate(0,430)\" style=\"font-family: 'Open Sans', verdana, arial, sans-serif; font-size: 12px; fill: rgb(68, 68, 68); fill-opacity: 1; white-space: pre; opacity: 1;\">age  </text></g><g class=\"ytick\"><text text-anchor=\"end\" x=\"149\" y=\"4.199999999999999\" transform=\"translate(0,330)\" style=\"font-family: 'Open Sans', verdana, arial, sans-serif; font-size: 12px; fill: rgb(68, 68, 68); fill-opacity: 1; white-space: pre; opacity: 1;\">new_user  </text></g><g class=\"ytick\"><text text-anchor=\"end\" x=\"149\" y=\"4.199999999999999\" transform=\"translate(0,230)\" style=\"font-family: 'Open Sans', verdana, arial, sans-serif; font-size: 12px; fill: rgb(68, 68, 68); fill-opacity: 1; white-space: pre; opacity: 1;\">total_pages_visited  </text></g><g class=\"ytick\"><text text-anchor=\"end\" x=\"149\" y=\"4.199999999999999\" transform=\"translate(0,130)\" style=\"font-family: 'Open Sans', verdana, arial, sans-serif; font-size: 12px; fill: rgb(68, 68, 68); fill-opacity: 1; white-space: pre; opacity: 1;\">converted  </text></g></g><g class=\"overaxes-above\"/></g></g><g class=\"polarlayer\"/><g class=\"smithlayer\"/><g class=\"ternarylayer\"/><g class=\"geolayer\"/><g class=\"funnelarealayer\"/><g class=\"pielayer\"/><g class=\"iciclelayer\"/><g class=\"treemaplayer\"/><g class=\"sunburstlayer\"/><g class=\"glimages\"/><defs id=\"topdefs-85bb78\"><g class=\"clips\"/></defs><g class=\"layer-above\"><g class=\"imagelayer\"/><g class=\"shapelayer\"/></g><g class=\"infolayer\"><g class=\"g-gtitle\"><text class=\"gtitle\" x=\"350\" y=\"40\" text-anchor=\"middle\" dy=\"0em\" style=\"font-family: 'Open Sans', verdana, arial, sans-serif; font-size: 17px; fill: rgb(68, 68, 68); opacity: 1; font-weight: normal; white-space: pre;\">Correlation matrix</text></g><g class=\"g-xtitle\"/><g class=\"g-ytitle\"/><g class=\"annotation\" data-index=\"0\" style=\"opacity: 1;\"><g class=\"annotation-text-g\" transform=\"rotate(0,200,430)\"><g class=\"cursor-pointer\" transform=\"translate(188,421)\"><rect class=\"bg\" x=\"0.5\" y=\"0.5\" width=\"23\" height=\"18\" style=\"stroke-width: 1px; stroke: rgb(0, 0, 0); stroke-opacity: 0; fill: rgb(0, 0, 0); fill-opacity: 0;\"/><text class=\"annotation-text\" text-anchor=\"middle\" x=\"11.8125\" y=\"14\" style=\"font-family: 'Open Sans', verdana, arial, sans-serif; font-size: 12px; fill: rgb(0, 0, 0); fill-opacity: 1; white-space: pre;\">1.0</text></g></g></g><g class=\"annotation\" data-index=\"1\" style=\"opacity: 1;\"><g class=\"annotation-text-g\" transform=\"rotate(0,300,430)\"><g class=\"cursor-pointer\" transform=\"translate(281,421)\"><rect class=\"bg\" x=\"0.5\" y=\"0.5\" width=\"38\" height=\"18\" style=\"stroke-width: 1px; stroke: rgb(0, 0, 0); stroke-opacity: 0; fill: rgb(0, 0, 0); fill-opacity: 0;\"/><text class=\"annotation-text\" text-anchor=\"middle\" x=\"19.453125\" y=\"14\" style=\"font-family: 'Open Sans', verdana, arial, sans-serif; font-size: 12px; fill: rgb(255, 255, 255); fill-opacity: 1; white-space: pre;\">0.056</text></g></g></g><g class=\"annotation\" data-index=\"2\" style=\"opacity: 1;\"><g class=\"annotation-text-g\" transform=\"rotate(0,400,430)\"><g class=\"cursor-pointer\" transform=\"translate(374,421)\"><rect class=\"bg\" x=\"0.5\" y=\"0.5\" width=\"51\" height=\"18\" style=\"stroke-width: 1px; stroke: rgb(0, 0, 0); stroke-opacity: 0; fill: rgb(0, 0, 0); fill-opacity: 0;\"/><text class=\"annotation-text\" text-anchor=\"middle\" x=\"25.984375\" y=\"14\" style=\"font-family: 'Open Sans', verdana, arial, sans-serif; font-size: 12px; fill: rgb(255, 255, 255); fill-opacity: 1; white-space: pre;\">-0.0403</text></g></g></g><g class=\"annotation\" data-index=\"3\" style=\"opacity: 1;\"><g class=\"annotation-text-g\" transform=\"rotate(0,500,430)\"><g class=\"cursor-pointer\" transform=\"translate(478,421)\"><rect class=\"bg\" x=\"0.5\" y=\"0.5\" width=\"43\" height=\"18\" style=\"stroke-width: 1px; stroke: rgb(0, 0, 0); stroke-opacity: 0; fill: rgb(0, 0, 0); fill-opacity: 0;\"/><text class=\"annotation-text\" text-anchor=\"middle\" x=\"22.171875\" y=\"14\" style=\"font-family: 'Open Sans', verdana, arial, sans-serif; font-size: 12px; fill: rgb(255, 255, 255); fill-opacity: 1; white-space: pre;\">-0.075</text></g></g></g><g class=\"annotation\" data-index=\"4\" style=\"opacity: 1;\"><g class=\"annotation-text-g\" transform=\"rotate(0,200,330)\"><g class=\"cursor-pointer\" transform=\"translate(181,321)\"><rect class=\"bg\" x=\"0.5\" y=\"0.5\" width=\"38\" height=\"18\" style=\"stroke-width: 1px; stroke: rgb(0, 0, 0); stroke-opacity: 0; fill: rgb(0, 0, 0); fill-opacity: 0;\"/><text class=\"annotation-text\" text-anchor=\"middle\" x=\"19.453125\" y=\"14\" style=\"font-family: 'Open Sans', verdana, arial, sans-serif; font-size: 12px; fill: rgb(255, 255, 255); fill-opacity: 1; white-space: pre;\">0.056</text></g></g></g><g class=\"annotation\" data-index=\"5\" style=\"opacity: 1;\"><g class=\"annotation-text-g\" transform=\"rotate(0,300,330)\"><g class=\"cursor-pointer\" transform=\"translate(288,321)\"><rect class=\"bg\" x=\"0.5\" y=\"0.5\" width=\"23\" height=\"18\" style=\"stroke-width: 1px; stroke: rgb(0, 0, 0); stroke-opacity: 0; fill: rgb(0, 0, 0); fill-opacity: 0;\"/><text class=\"annotation-text\" text-anchor=\"middle\" x=\"11.8125\" y=\"14\" style=\"font-family: 'Open Sans', verdana, arial, sans-serif; font-size: 12px; fill: rgb(0, 0, 0); fill-opacity: 1; white-space: pre;\">1.0</text></g></g></g><g class=\"annotation\" data-index=\"6\" style=\"opacity: 1;\"><g class=\"annotation-text-g\" transform=\"rotate(0,400,330)\"><g class=\"cursor-pointer\" transform=\"translate(374,321)\"><rect class=\"bg\" x=\"0.5\" y=\"0.5\" width=\"51\" height=\"18\" style=\"stroke-width: 1px; stroke: rgb(0, 0, 0); stroke-opacity: 0; fill: rgb(0, 0, 0); fill-opacity: 0;\"/><text class=\"annotation-text\" text-anchor=\"middle\" x=\"25.984375\" y=\"14\" style=\"font-family: 'Open Sans', verdana, arial, sans-serif; font-size: 12px; fill: rgb(255, 255, 255); fill-opacity: 1; white-space: pre;\">-0.0988</text></g></g></g><g class=\"annotation\" data-index=\"7\" style=\"opacity: 1;\"><g class=\"annotation-text-g\" transform=\"rotate(0,500,330)\"><g class=\"cursor-pointer\" transform=\"translate(474,321)\"><rect class=\"bg\" x=\"0.5\" y=\"0.5\" width=\"51\" height=\"18\" style=\"stroke-width: 1px; stroke: rgb(0, 0, 0); stroke-opacity: 0; fill: rgb(0, 0, 0); fill-opacity: 0;\"/><text class=\"annotation-text\" text-anchor=\"middle\" x=\"25.984375\" y=\"14\" style=\"font-family: 'Open Sans', verdana, arial, sans-serif; font-size: 12px; fill: rgb(255, 255, 255); fill-opacity: 1; white-space: pre;\">-0.1903</text></g></g></g><g class=\"annotation\" data-index=\"8\" style=\"opacity: 1;\"><g class=\"annotation-text-g\" transform=\"rotate(0,200,230)\"><g class=\"cursor-pointer\" transform=\"translate(174,221)\"><rect class=\"bg\" x=\"0.5\" y=\"0.5\" width=\"51\" height=\"18\" style=\"stroke-width: 1px; stroke: rgb(0, 0, 0); stroke-opacity: 0; fill: rgb(0, 0, 0); fill-opacity: 0;\"/><text class=\"annotation-text\" text-anchor=\"middle\" x=\"25.984375\" y=\"14\" style=\"font-family: 'Open Sans', verdana, arial, sans-serif; font-size: 12px; fill: rgb(255, 255, 255); fill-opacity: 1; white-space: pre;\">-0.0403</text></g></g></g><g class=\"annotation\" data-index=\"9\" style=\"opacity: 1;\"><g class=\"annotation-text-g\" transform=\"rotate(0,300,230)\"><g class=\"cursor-pointer\" transform=\"translate(274,221)\"><rect class=\"bg\" x=\"0.5\" y=\"0.5\" width=\"51\" height=\"18\" style=\"stroke-width: 1px; stroke: rgb(0, 0, 0); stroke-opacity: 0; fill: rgb(0, 0, 0); fill-opacity: 0;\"/><text class=\"annotation-text\" text-anchor=\"middle\" x=\"25.984375\" y=\"14\" style=\"font-family: 'Open Sans', verdana, arial, sans-serif; font-size: 12px; fill: rgb(255, 255, 255); fill-opacity: 1; white-space: pre;\">-0.0988</text></g></g></g><g class=\"annotation\" data-index=\"10\" style=\"opacity: 1;\"><g class=\"annotation-text-g\" transform=\"rotate(0,400,230)\"><g class=\"cursor-pointer\" transform=\"translate(388,221)\"><rect class=\"bg\" x=\"0.5\" y=\"0.5\" width=\"23\" height=\"18\" style=\"stroke-width: 1px; stroke: rgb(0, 0, 0); stroke-opacity: 0; fill: rgb(0, 0, 0); fill-opacity: 0;\"/><text class=\"annotation-text\" text-anchor=\"middle\" x=\"11.8125\" y=\"14\" style=\"font-family: 'Open Sans', verdana, arial, sans-serif; font-size: 12px; fill: rgb(0, 0, 0); fill-opacity: 1; white-space: pre;\">1.0</text></g></g></g><g class=\"annotation\" data-index=\"11\" style=\"opacity: 1;\"><g class=\"annotation-text-g\" transform=\"rotate(0,500,230)\"><g class=\"cursor-pointer\" transform=\"translate(477,221)\"><rect class=\"bg\" x=\"0.5\" y=\"0.5\" width=\"46\" height=\"18\" style=\"stroke-width: 1px; stroke: rgb(0, 0, 0); stroke-opacity: 0; fill: rgb(0, 0, 0); fill-opacity: 0;\"/><text class=\"annotation-text\" text-anchor=\"middle\" x=\"23.265625\" y=\"14\" style=\"font-family: 'Open Sans', verdana, arial, sans-serif; font-size: 12px; fill: rgb(0, 0, 0); fill-opacity: 1; white-space: pre;\">0.5018</text></g></g></g><g class=\"annotation\" data-index=\"12\" style=\"opacity: 1;\"><g class=\"annotation-text-g\" transform=\"rotate(0,200,130)\"><g class=\"cursor-pointer\" transform=\"translate(178,121)\"><rect class=\"bg\" x=\"0.5\" y=\"0.5\" width=\"43\" height=\"18\" style=\"stroke-width: 1px; stroke: rgb(0, 0, 0); stroke-opacity: 0; fill: rgb(0, 0, 0); fill-opacity: 0;\"/><text class=\"annotation-text\" text-anchor=\"middle\" x=\"22.171875\" y=\"14\" style=\"font-family: 'Open Sans', verdana, arial, sans-serif; font-size: 12px; fill: rgb(255, 255, 255); fill-opacity: 1; white-space: pre;\">-0.075</text></g></g></g><g class=\"annotation\" data-index=\"13\" style=\"opacity: 1;\"><g class=\"annotation-text-g\" transform=\"rotate(0,300,130)\"><g class=\"cursor-pointer\" transform=\"translate(274,121)\"><rect class=\"bg\" x=\"0.5\" y=\"0.5\" width=\"51\" height=\"18\" style=\"stroke-width: 1px; stroke: rgb(0, 0, 0); stroke-opacity: 0; fill: rgb(0, 0, 0); fill-opacity: 0;\"/><text class=\"annotation-text\" text-anchor=\"middle\" x=\"25.984375\" y=\"14\" style=\"font-family: 'Open Sans', verdana, arial, sans-serif; font-size: 12px; fill: rgb(255, 255, 255); fill-opacity: 1; white-space: pre;\">-0.1903</text></g></g></g><g class=\"annotation\" data-index=\"14\" style=\"opacity: 1;\"><g class=\"annotation-text-g\" transform=\"rotate(0,400,130)\"><g class=\"cursor-pointer\" transform=\"translate(377,121)\"><rect class=\"bg\" x=\"0.5\" y=\"0.5\" width=\"46\" height=\"18\" style=\"stroke-width: 1px; stroke: rgb(0, 0, 0); stroke-opacity: 0; fill: rgb(0, 0, 0); fill-opacity: 0;\"/><text class=\"annotation-text\" text-anchor=\"middle\" x=\"23.265625\" y=\"14\" style=\"font-family: 'Open Sans', verdana, arial, sans-serif; font-size: 12px; fill: rgb(0, 0, 0); fill-opacity: 1; white-space: pre;\">0.5018</text></g></g></g><g class=\"annotation\" data-index=\"15\" style=\"opacity: 1;\"><g class=\"annotation-text-g\" transform=\"rotate(0,500,130)\"><g class=\"cursor-pointer\" transform=\"translate(488,121)\"><rect class=\"bg\" x=\"0.5\" y=\"0.5\" width=\"23\" height=\"18\" style=\"stroke-width: 1px; stroke: rgb(0, 0, 0); stroke-opacity: 0; fill: rgb(0, 0, 0); fill-opacity: 0;\"/><text class=\"annotation-text\" text-anchor=\"middle\" x=\"11.8125\" y=\"14\" style=\"font-family: 'Open Sans', verdana, arial, sans-serif; font-size: 12px; fill: rgb(0, 0, 0); fill-opacity: 1; white-space: pre;\">1.0</text></g></g></g></g></svg>"
     },
     "metadata": {},
     "output_type": "display_data"
    }
   ],
   "source": [
    "corr_matrix = round(data_sample.corr(), 4)\n",
    "\n",
    "fig = ff.create_annotated_heatmap(corr_matrix.values,\n",
    "                                  x = corr_matrix.columns.values.tolist(),\n",
    "                                  y = corr_matrix.index.values.tolist(),\n",
    "                                  )\n",
    "fig.update_layout(\n",
    "    title = go.layout.Title(text = 'Correlation matrix', x = 0.5), showlegend = False, \n",
    "            autosize=False, width=700, height=500, margin=dict(l=150, r=150, t=80, b=20)),\n",
    "\n",
    "fig.show()"
   ]
  },
  {
   "cell_type": "markdown",
   "metadata": {},
   "source": [
    "### Quantitative Values "
   ]
  },
  {
   "cell_type": "code",
   "execution_count": 49,
   "metadata": {},
   "outputs": [
    {
     "data": {
      "image/svg+xml": "<svg class=\"main-svg\" xmlns=\"http://www.w3.org/2000/svg\" xmlns:xlink=\"http://www.w3.org/1999/xlink\" width=\"700\" height=\"500\" style=\"\" viewBox=\"0 0 700 500\"><rect x=\"0\" y=\"0\" width=\"700\" height=\"500\" style=\"fill: rgb(255, 255, 255); fill-opacity: 1;\"/><defs id=\"defs-d70522\"><g class=\"clips\"><clipPath id=\"clipd70522xyplot\" class=\"plotclip\"><rect width=\"530\" height=\"360\"/></clipPath><clipPath class=\"axesclip\" id=\"clipd70522x\"><rect x=\"80\" y=\"0\" width=\"530\" height=\"500\"/></clipPath><clipPath class=\"axesclip\" id=\"clipd70522y\"><rect x=\"0\" y=\"60\" width=\"700\" height=\"360\"/></clipPath><clipPath class=\"axesclip\" id=\"clipd70522xy\"><rect x=\"80\" y=\"60\" width=\"530\" height=\"360\"/></clipPath></g><g class=\"gradients\"/><g class=\"patterns\"/></defs><g class=\"bglayer\"/><g class=\"layer-below\"><g class=\"imagelayer\"/><g class=\"shapelayer\"/></g><g class=\"cartesianlayer\"><g class=\"subplot xy\"><g class=\"layer-subplot\"><g class=\"shapelayer\"/><g class=\"imagelayer\"/></g><g class=\"minor-gridlayer\"><g class=\"x\"/><g class=\"y\"/></g><g class=\"gridlayer\"><g class=\"x\"/><g class=\"y\"><path class=\"ygrid crisp\" transform=\"translate(0,383.62)\" d=\"M80,0h530\" style=\"stroke: rgb(238, 238, 238); stroke-opacity: 1; stroke-width: 1px;\"/><path class=\"ygrid crisp\" transform=\"translate(0,347.23)\" d=\"M80,0h530\" style=\"stroke: rgb(238, 238, 238); stroke-opacity: 1; stroke-width: 1px;\"/><path class=\"ygrid crisp\" transform=\"translate(0,310.85)\" d=\"M80,0h530\" style=\"stroke: rgb(238, 238, 238); stroke-opacity: 1; stroke-width: 1px;\"/><path class=\"ygrid crisp\" transform=\"translate(0,274.47)\" d=\"M80,0h530\" style=\"stroke: rgb(238, 238, 238); stroke-opacity: 1; stroke-width: 1px;\"/><path class=\"ygrid crisp\" transform=\"translate(0,238.09)\" d=\"M80,0h530\" style=\"stroke: rgb(238, 238, 238); stroke-opacity: 1; stroke-width: 1px;\"/><path class=\"ygrid crisp\" transform=\"translate(0,201.7)\" d=\"M80,0h530\" style=\"stroke: rgb(238, 238, 238); stroke-opacity: 1; stroke-width: 1px;\"/><path class=\"ygrid crisp\" transform=\"translate(0,165.32)\" d=\"M80,0h530\" style=\"stroke: rgb(238, 238, 238); stroke-opacity: 1; stroke-width: 1px;\"/><path class=\"ygrid crisp\" transform=\"translate(0,128.94)\" d=\"M80,0h530\" style=\"stroke: rgb(238, 238, 238); stroke-opacity: 1; stroke-width: 1px;\"/><path class=\"ygrid crisp\" transform=\"translate(0,92.55)\" d=\"M80,0h530\" style=\"stroke: rgb(238, 238, 238); stroke-opacity: 1; stroke-width: 1px;\"/></g></g><g class=\"zerolinelayer\"><path class=\"yzl zl crisp\" transform=\"translate(0,420)\" d=\"M80,0h530\" style=\"stroke: rgb(68, 68, 68); stroke-opacity: 1; stroke-width: 1px;\"/></g><path class=\"xlines-below\"/><path class=\"ylines-below\"/><g class=\"overlines-below\"/><g class=\"xaxislayer-below\"/><g class=\"yaxislayer-below\"/><g class=\"overaxes-below\"/><g class=\"plot\" transform=\"translate(80,60)\" clip-path=\"url(#clipd70522xyplot)\"><g class=\"barlayer mlayer\"><g class=\"trace bars\" shape-rendering=\"crispEdges\" style=\"opacity: 1;\"><g class=\"points\"><g class=\"point\"><path d=\"M0,360V294.51H23.04V360Z\" style=\"vector-effect: non-scaling-stroke; opacity: 1; stroke-width: 0px; fill: rgb(75, 154, 199); fill-opacity: 1;\"/></g><g class=\"point\"><path d=\"M23.04,360V148.98H46.09V360Z\" style=\"vector-effect: non-scaling-stroke; opacity: 1; stroke-width: 0px; fill: rgb(75, 154, 199); fill-opacity: 1;\"/></g><g class=\"point\"><path d=\"M46.09,360V127.15H69.13V360Z\" style=\"vector-effect: non-scaling-stroke; opacity: 1; stroke-width: 0px; fill: rgb(75, 154, 199); fill-opacity: 1;\"/></g><g class=\"point\"><path d=\"M69.13,360V127.15H92.17V360Z\" style=\"vector-effect: non-scaling-stroke; opacity: 1; stroke-width: 0px; fill: rgb(75, 154, 199); fill-opacity: 1;\"/></g><g class=\"point\"><path d=\"M92.17,360V18H115.22V360Z\" style=\"vector-effect: non-scaling-stroke; opacity: 1; stroke-width: 0px; fill: rgb(75, 154, 199); fill-opacity: 1;\"/></g><g class=\"point\"><path d=\"M115.22,360V72.57H138.26V360Z\" style=\"vector-effect: non-scaling-stroke; opacity: 1; stroke-width: 0px; fill: rgb(75, 154, 199); fill-opacity: 1;\"/></g><g class=\"point\"><path d=\"M138.26,360V18H161.3V360Z\" style=\"vector-effect: non-scaling-stroke; opacity: 1; stroke-width: 0px; fill: rgb(75, 154, 199); fill-opacity: 1;\"/></g><g class=\"point\"><path d=\"M161.3,360V39.83H184.35V360Z\" style=\"vector-effect: non-scaling-stroke; opacity: 1; stroke-width: 0px; fill: rgb(75, 154, 199); fill-opacity: 1;\"/></g><g class=\"point\"><path d=\"M184.35,360V98.04H207.39V360Z\" style=\"vector-effect: non-scaling-stroke; opacity: 1; stroke-width: 0px; fill: rgb(75, 154, 199); fill-opacity: 1;\"/></g><g class=\"point\"><path d=\"M207.39,360V87.13H230.43V360Z\" style=\"vector-effect: non-scaling-stroke; opacity: 1; stroke-width: 0px; fill: rgb(75, 154, 199); fill-opacity: 1;\"/></g><g class=\"point\"><path d=\"M230.43,360V123.51H253.48V360Z\" style=\"vector-effect: non-scaling-stroke; opacity: 1; stroke-width: 0px; fill: rgb(75, 154, 199); fill-opacity: 1;\"/></g><g class=\"point\"><path d=\"M253.48,360V156.26H276.52V360Z\" style=\"vector-effect: non-scaling-stroke; opacity: 1; stroke-width: 0px; fill: rgb(75, 154, 199); fill-opacity: 1;\"/></g><g class=\"point\"><path d=\"M276.52,360V196.28H299.57V360Z\" style=\"vector-effect: non-scaling-stroke; opacity: 1; stroke-width: 0px; fill: rgb(75, 154, 199); fill-opacity: 1;\"/></g><g class=\"point\"><path d=\"M299.57,360V225.38H322.61V360Z\" style=\"vector-effect: non-scaling-stroke; opacity: 1; stroke-width: 0px; fill: rgb(75, 154, 199); fill-opacity: 1;\"/></g><g class=\"point\"><path d=\"M322.61,360V243.57H345.65V360Z\" style=\"vector-effect: non-scaling-stroke; opacity: 1; stroke-width: 0px; fill: rgb(75, 154, 199); fill-opacity: 1;\"/></g><g class=\"point\"><path d=\"M345.65,360V283.6H368.7V360Z\" style=\"vector-effect: non-scaling-stroke; opacity: 1; stroke-width: 0px; fill: rgb(75, 154, 199); fill-opacity: 1;\"/></g><g class=\"point\"><path d=\"M368.7,360V312.7H391.74V360Z\" style=\"vector-effect: non-scaling-stroke; opacity: 1; stroke-width: 0px; fill: rgb(75, 154, 199); fill-opacity: 1;\"/></g><g class=\"point\"><path d=\"M391.74,360V338.17H414.78V360Z\" style=\"vector-effect: non-scaling-stroke; opacity: 1; stroke-width: 0px; fill: rgb(75, 154, 199); fill-opacity: 1;\"/></g><g class=\"point\"><path d=\"M414.78,360V334.53H437.83V360Z\" style=\"vector-effect: non-scaling-stroke; opacity: 1; stroke-width: 0px; fill: rgb(75, 154, 199); fill-opacity: 1;\"/></g><g class=\"point\"><path d=\"M437.83,360V334.53H460.87V360Z\" style=\"vector-effect: non-scaling-stroke; opacity: 1; stroke-width: 0px; fill: rgb(75, 154, 199); fill-opacity: 1;\"/></g><g class=\"point\"><path d=\"M460.87,360V349.09H483.91V360Z\" style=\"vector-effect: non-scaling-stroke; opacity: 1; stroke-width: 0px; fill: rgb(75, 154, 199); fill-opacity: 1;\"/></g><g class=\"point\"><path d=\"M483.91,360V356.36H506.96V360Z\" style=\"vector-effect: non-scaling-stroke; opacity: 1; stroke-width: 0px; fill: rgb(75, 154, 199); fill-opacity: 1;\"/></g><g class=\"point\"><path d=\"M506.96,360V356.36H530V360Z\" style=\"vector-effect: non-scaling-stroke; opacity: 1; stroke-width: 0px; fill: rgb(75, 154, 199); fill-opacity: 1;\"/></g></g></g></g></g><g class=\"overplot\"/><path class=\"xlines-above crisp\" d=\"M0,0\" style=\"fill: none;\"/><path class=\"ylines-above crisp\" d=\"M0,0\" style=\"fill: none;\"/><g class=\"overlines-above\"/><g class=\"xaxislayer-above\"><g class=\"xtick\"><text text-anchor=\"middle\" x=\"0\" y=\"433\" transform=\"translate(131.85,0)\" style=\"font-family: 'Open Sans', verdana, arial, sans-serif; font-size: 12px; fill: rgb(68, 68, 68); fill-opacity: 1; white-space: pre; opacity: 1;\">20</text></g><g class=\"xtick\"><text text-anchor=\"middle\" x=\"0\" y=\"433\" style=\"font-family: 'Open Sans', verdana, arial, sans-serif; font-size: 12px; fill: rgb(68, 68, 68); fill-opacity: 1; white-space: pre; opacity: 1;\" transform=\"translate(247.07,0)\">30</text></g><g class=\"xtick\"><text text-anchor=\"middle\" x=\"0\" y=\"433\" style=\"font-family: 'Open Sans', verdana, arial, sans-serif; font-size: 12px; fill: rgb(68, 68, 68); fill-opacity: 1; white-space: pre; opacity: 1;\" transform=\"translate(362.28,0)\">40</text></g><g class=\"xtick\"><text text-anchor=\"middle\" x=\"0\" y=\"433\" style=\"font-family: 'Open Sans', verdana, arial, sans-serif; font-size: 12px; fill: rgb(68, 68, 68); fill-opacity: 1; white-space: pre; opacity: 1;\" transform=\"translate(477.5,0)\">50</text></g><g class=\"xtick\"><text text-anchor=\"middle\" x=\"0\" y=\"433\" style=\"font-family: 'Open Sans', verdana, arial, sans-serif; font-size: 12px; fill: rgb(68, 68, 68); fill-opacity: 1; white-space: pre; opacity: 1;\" transform=\"translate(592.72,0)\">60</text></g></g><g class=\"yaxislayer-above\"><g class=\"ytick\"><text text-anchor=\"end\" x=\"79\" y=\"4.199999999999999\" transform=\"translate(0,420)\" style=\"font-family: 'Open Sans', verdana, arial, sans-serif; font-size: 12px; fill: rgb(68, 68, 68); fill-opacity: 1; white-space: pre; opacity: 1;\">0</text></g><g class=\"ytick\"><text text-anchor=\"end\" x=\"79\" y=\"4.199999999999999\" style=\"font-family: 'Open Sans', verdana, arial, sans-serif; font-size: 12px; fill: rgb(68, 68, 68); fill-opacity: 1; white-space: pre; opacity: 1;\" transform=\"translate(0,383.62)\">10</text></g><g class=\"ytick\"><text text-anchor=\"end\" x=\"79\" y=\"4.199999999999999\" style=\"font-family: 'Open Sans', verdana, arial, sans-serif; font-size: 12px; fill: rgb(68, 68, 68); fill-opacity: 1; white-space: pre; opacity: 1;\" transform=\"translate(0,347.23)\">20</text></g><g class=\"ytick\"><text text-anchor=\"end\" x=\"79\" y=\"4.199999999999999\" style=\"font-family: 'Open Sans', verdana, arial, sans-serif; font-size: 12px; fill: rgb(68, 68, 68); fill-opacity: 1; white-space: pre; opacity: 1;\" transform=\"translate(0,310.85)\">30</text></g><g class=\"ytick\"><text text-anchor=\"end\" x=\"79\" y=\"4.199999999999999\" style=\"font-family: 'Open Sans', verdana, arial, sans-serif; font-size: 12px; fill: rgb(68, 68, 68); fill-opacity: 1; white-space: pre; opacity: 1;\" transform=\"translate(0,274.47)\">40</text></g><g class=\"ytick\"><text text-anchor=\"end\" x=\"79\" y=\"4.199999999999999\" style=\"font-family: 'Open Sans', verdana, arial, sans-serif; font-size: 12px; fill: rgb(68, 68, 68); fill-opacity: 1; white-space: pre; opacity: 1;\" transform=\"translate(0,238.09)\">50</text></g><g class=\"ytick\"><text text-anchor=\"end\" x=\"79\" y=\"4.199999999999999\" style=\"font-family: 'Open Sans', verdana, arial, sans-serif; font-size: 12px; fill: rgb(68, 68, 68); fill-opacity: 1; white-space: pre; opacity: 1;\" transform=\"translate(0,201.7)\">60</text></g><g class=\"ytick\"><text text-anchor=\"end\" x=\"79\" y=\"4.199999999999999\" style=\"font-family: 'Open Sans', verdana, arial, sans-serif; font-size: 12px; fill: rgb(68, 68, 68); fill-opacity: 1; white-space: pre; opacity: 1;\" transform=\"translate(0,165.32)\">70</text></g><g class=\"ytick\"><text text-anchor=\"end\" x=\"79\" y=\"4.199999999999999\" style=\"font-family: 'Open Sans', verdana, arial, sans-serif; font-size: 12px; fill: rgb(68, 68, 68); fill-opacity: 1; white-space: pre; opacity: 1;\" transform=\"translate(0,128.94)\">80</text></g><g class=\"ytick\"><text text-anchor=\"end\" x=\"79\" y=\"4.199999999999999\" style=\"font-family: 'Open Sans', verdana, arial, sans-serif; font-size: 12px; fill: rgb(68, 68, 68); fill-opacity: 1; white-space: pre; opacity: 1;\" transform=\"translate(0,92.55)\">90</text></g></g><g class=\"overaxes-above\"/></g></g><g class=\"polarlayer\"/><g class=\"smithlayer\"/><g class=\"ternarylayer\"/><g class=\"geolayer\"/><g class=\"funnelarealayer\"/><g class=\"pielayer\"/><g class=\"iciclelayer\"/><g class=\"treemaplayer\"/><g class=\"sunburstlayer\"/><g class=\"glimages\"/><defs id=\"topdefs-d70522\"><g class=\"clips\"/><clipPath id=\"legendd70522\"><rect width=\"67\" height=\"48\" x=\"0\" y=\"0\"/></clipPath></defs><g class=\"layer-above\"><g class=\"imagelayer\"/><g class=\"shapelayer\"/></g><g class=\"infolayer\"><g class=\"legend\" pointer-events=\"all\" transform=\"translate(620.6,60)\"><rect class=\"bg\" shape-rendering=\"crispEdges\" width=\"67\" height=\"48\" x=\"0\" y=\"0\" style=\"stroke: rgb(68, 68, 68); stroke-opacity: 1; fill: rgb(255, 255, 255); fill-opacity: 1; stroke-width: 0px;\"/><g class=\"scrollbox\" transform=\"\" clip-path=\"url(#legendd70522)\"><text class=\"legendtitletext\" text-anchor=\"start\" x=\"2\" y=\"18.2\" style=\"font-family: 'Open Sans', verdana, arial, sans-serif; font-size: 14px; fill: rgb(68, 68, 68); fill-opacity: 1; white-space: pre;\">variable</text><g class=\"groups\" transform=\"\"><g class=\"traces\" transform=\"translate(0,32.7)\" style=\"opacity: 1;\"><text class=\"legendtext\" text-anchor=\"start\" x=\"40\" y=\"4.680000000000001\" style=\"font-family: 'Open Sans', verdana, arial, sans-serif; font-size: 12px; fill: rgb(68, 68, 68); fill-opacity: 1; white-space: pre;\">age</text><g class=\"layers\" style=\"opacity: 1;\"><g class=\"legendfill\"/><g class=\"legendlines\"/><g class=\"legendsymbols\"><g class=\"legendpoints\"><path class=\"legendundefined\" d=\"M6,6H-6V-6H6Z\" transform=\"translate(20,0)\" style=\"stroke-width: 0px; fill: rgb(75, 154, 199); fill-opacity: 1;\"/></g></g></g><rect class=\"legendtoggle\" x=\"0\" y=\"-9.5\" width=\"61.84375\" height=\"19\" style=\"fill: rgb(0, 0, 0); fill-opacity: 0;\"/></g></g></g><rect class=\"scrollbar\" rx=\"20\" ry=\"3\" width=\"0\" height=\"0\" x=\"0\" y=\"0\" style=\"fill: rgb(128, 139, 164); fill-opacity: 1;\"/></g><g class=\"g-gtitle\"/><g class=\"g-xtitle\"><text class=\"xtitle\" x=\"345\" y=\"472\" text-anchor=\"middle\" style=\"font-family: 'Open Sans', verdana, arial, sans-serif; font-size: 14px; fill: rgb(68, 68, 68); opacity: 1; font-weight: normal; white-space: pre;\">value</text></g><g class=\"g-ytitle\"><text class=\"ytitle\" transform=\"rotate(-90,42,240)\" x=\"42\" y=\"240\" text-anchor=\"middle\" style=\"font-family: 'Open Sans', verdana, arial, sans-serif; font-size: 14px; fill: rgb(68, 68, 68); opacity: 1; font-weight: normal; white-space: pre;\">count</text></g></g></svg>"
     },
     "metadata": {},
     "output_type": "display_data"
    }
   ],
   "source": [
    "px.histogram(data_sample['age'])"
   ]
  },
  {
   "cell_type": "code",
   "execution_count": 50,
   "metadata": {},
   "outputs": [
    {
     "data": {
      "image/svg+xml": "<svg class=\"main-svg\" xmlns=\"http://www.w3.org/2000/svg\" xmlns:xlink=\"http://www.w3.org/1999/xlink\" width=\"700\" height=\"500\" style=\"\" viewBox=\"0 0 700 500\"><rect x=\"0\" y=\"0\" width=\"700\" height=\"500\" style=\"fill: rgb(255, 255, 255); fill-opacity: 1;\"/><defs id=\"defs-36113f\"><g class=\"clips\"><clipPath id=\"clip36113fxyplot\" class=\"plotclip\"><rect width=\"436\" height=\"360\"/></clipPath><clipPath class=\"axesclip\" id=\"clip36113fx\"><rect x=\"80\" y=\"0\" width=\"436\" height=\"500\"/></clipPath><clipPath class=\"axesclip\" id=\"clip36113fy\"><rect x=\"0\" y=\"60\" width=\"700\" height=\"360\"/></clipPath><clipPath class=\"axesclip\" id=\"clip36113fxy\"><rect x=\"80\" y=\"60\" width=\"436\" height=\"360\"/></clipPath></g><g class=\"gradients\"/><g class=\"patterns\"/></defs><g class=\"bglayer\"/><g class=\"layer-below\"><g class=\"imagelayer\"/><g class=\"shapelayer\"/></g><g class=\"cartesianlayer\"><g class=\"subplot xy\"><g class=\"layer-subplot\"><g class=\"shapelayer\"/><g class=\"imagelayer\"/></g><g class=\"minor-gridlayer\"><g class=\"x\"/><g class=\"y\"/></g><g class=\"gridlayer\"><g class=\"x\"/><g class=\"y\"><path class=\"ygrid crisp\" transform=\"translate(0,370.43)\" d=\"M80,0h436\" style=\"stroke: rgb(238, 238, 238); stroke-opacity: 1; stroke-width: 1px;\"/><path class=\"ygrid crisp\" transform=\"translate(0,320.87)\" d=\"M80,0h436\" style=\"stroke: rgb(238, 238, 238); stroke-opacity: 1; stroke-width: 1px;\"/><path class=\"ygrid crisp\" transform=\"translate(0,271.3)\" d=\"M80,0h436\" style=\"stroke: rgb(238, 238, 238); stroke-opacity: 1; stroke-width: 1px;\"/><path class=\"ygrid crisp\" transform=\"translate(0,221.74)\" d=\"M80,0h436\" style=\"stroke: rgb(238, 238, 238); stroke-opacity: 1; stroke-width: 1px;\"/><path class=\"ygrid crisp\" transform=\"translate(0,172.17000000000002)\" d=\"M80,0h436\" style=\"stroke: rgb(238, 238, 238); stroke-opacity: 1; stroke-width: 1px;\"/><path class=\"ygrid crisp\" transform=\"translate(0,122.61)\" d=\"M80,0h436\" style=\"stroke: rgb(238, 238, 238); stroke-opacity: 1; stroke-width: 1px;\"/><path class=\"ygrid crisp\" transform=\"translate(0,73.03999999999999)\" d=\"M80,0h436\" style=\"stroke: rgb(238, 238, 238); stroke-opacity: 1; stroke-width: 1px;\"/></g></g><g class=\"zerolinelayer\"><path class=\"yzl zl crisp\" transform=\"translate(0,420)\" d=\"M80,0h436\" style=\"stroke: rgb(68, 68, 68); stroke-opacity: 1; stroke-width: 1px;\"/></g><path class=\"xlines-below\"/><path class=\"ylines-below\"/><g class=\"overlines-below\"/><g class=\"xaxislayer-below\"/><g class=\"yaxislayer-below\"/><g class=\"overaxes-below\"/><g class=\"plot\" transform=\"translate(80,60)\" clip-path=\"url(#clip36113fxyplot)\"><g class=\"barlayer mlayer\"><g class=\"trace bars\" shape-rendering=\"crispEdges\" style=\"opacity: 1;\"><g class=\"points\"><g class=\"point\"><path d=\"M0,360V32.87H21.8V360Z\" style=\"vector-effect: non-scaling-stroke; opacity: 1; stroke-width: 0px; fill: rgb(75, 154, 199); fill-opacity: 1;\"/></g><g class=\"point\"><path d=\"M21.8,360V18H43.6V360Z\" style=\"vector-effect: non-scaling-stroke; opacity: 1; stroke-width: 0px; fill: rgb(75, 154, 199); fill-opacity: 1;\"/></g><g class=\"point\"><path d=\"M43.6,360V25.43H65.4V360Z\" style=\"vector-effect: non-scaling-stroke; opacity: 1; stroke-width: 0px; fill: rgb(75, 154, 199); fill-opacity: 1;\"/></g><g class=\"point\"><path d=\"M65.4,360V30.39H87.2V360Z\" style=\"vector-effect: non-scaling-stroke; opacity: 1; stroke-width: 0px; fill: rgb(75, 154, 199); fill-opacity: 1;\"/></g><g class=\"point\"><path d=\"M87.2,360V92.35H109V360Z\" style=\"vector-effect: non-scaling-stroke; opacity: 1; stroke-width: 0px; fill: rgb(75, 154, 199); fill-opacity: 1;\"/></g><g class=\"point\"><path d=\"M109,360V132H130.8V360Z\" style=\"vector-effect: non-scaling-stroke; opacity: 1; stroke-width: 0px; fill: rgb(75, 154, 199); fill-opacity: 1;\"/></g><g class=\"point\"><path d=\"M130.8,360V186.52H152.6V360Z\" style=\"vector-effect: non-scaling-stroke; opacity: 1; stroke-width: 0px; fill: rgb(75, 154, 199); fill-opacity: 1;\"/></g><g class=\"point\"><path d=\"M152.6,360V208.83H174.4V360Z\" style=\"vector-effect: non-scaling-stroke; opacity: 1; stroke-width: 0px; fill: rgb(75, 154, 199); fill-opacity: 1;\"/></g><g class=\"point\"><path d=\"M174.4,360V248.48H196.2V360Z\" style=\"vector-effect: non-scaling-stroke; opacity: 1; stroke-width: 0px; fill: rgb(75, 154, 199); fill-opacity: 1;\"/></g><g class=\"point\"><path d=\"M196.2,360V307.96H218V360Z\" style=\"vector-effect: non-scaling-stroke; opacity: 1; stroke-width: 0px; fill: rgb(75, 154, 199); fill-opacity: 1;\"/></g><g class=\"point\"><path d=\"M218,360V317.87H239.8V360Z\" style=\"vector-effect: non-scaling-stroke; opacity: 1; stroke-width: 0px; fill: rgb(75, 154, 199); fill-opacity: 1;\"/></g><g class=\"point\"><path d=\"M239.8,360V315.39H261.6V360Z\" style=\"vector-effect: non-scaling-stroke; opacity: 1; stroke-width: 0px; fill: rgb(75, 154, 199); fill-opacity: 1;\"/></g><g class=\"point\"><path d=\"M261.6,360V340.17H283.4V360Z\" style=\"vector-effect: non-scaling-stroke; opacity: 1; stroke-width: 0px; fill: rgb(75, 154, 199); fill-opacity: 1;\"/></g><g class=\"point\"><path d=\"M283.4,360V335.22H305.2V360Z\" style=\"vector-effect: non-scaling-stroke; opacity: 1; stroke-width: 0px; fill: rgb(75, 154, 199); fill-opacity: 1;\"/></g><g class=\"point\"><path d=\"M305.2,360V355.04H327V360Z\" style=\"vector-effect: non-scaling-stroke; opacity: 1; stroke-width: 0px; fill: rgb(75, 154, 199); fill-opacity: 1;\"/></g><g class=\"point\"><path d=\"M327,360V350.09H348.8V360Z\" style=\"vector-effect: non-scaling-stroke; opacity: 1; stroke-width: 0px; fill: rgb(75, 154, 199); fill-opacity: 1;\"/></g><g class=\"point\"><path d=\"M348.8,360V352.57H370.6V360Z\" style=\"vector-effect: non-scaling-stroke; opacity: 1; stroke-width: 0px; fill: rgb(75, 154, 199); fill-opacity: 1;\"/></g><g class=\"point\"><path d=\"M370.6,360V357.52H392.4V360Z\" style=\"vector-effect: non-scaling-stroke; opacity: 1; stroke-width: 0px; fill: rgb(75, 154, 199); fill-opacity: 1;\"/></g><g class=\"point\"><path d=\"M392.4,360V357.52H414.2V360Z\" style=\"vector-effect: non-scaling-stroke; opacity: 1; stroke-width: 0px; fill: rgb(75, 154, 199); fill-opacity: 1;\"/></g><g class=\"point\"><path d=\"M414.2,360V357.52H436V360Z\" style=\"vector-effect: non-scaling-stroke; opacity: 1; stroke-width: 0px; fill: rgb(75, 154, 199); fill-opacity: 1;\"/></g></g></g></g></g><g class=\"overplot\"/><path class=\"xlines-above crisp\" d=\"M0,0\" style=\"fill: none;\"/><path class=\"ylines-above crisp\" d=\"M0,0\" style=\"fill: none;\"/><g class=\"overlines-above\"/><g class=\"xaxislayer-above\"><g class=\"xtick\"><text text-anchor=\"middle\" x=\"0\" y=\"433\" transform=\"translate(178.1,0)\" style=\"font-family: 'Open Sans', verdana, arial, sans-serif; font-size: 12px; fill: rgb(68, 68, 68); fill-opacity: 1; white-space: pre; opacity: 1;\">5</text></g><g class=\"xtick\"><text text-anchor=\"middle\" x=\"0\" y=\"433\" style=\"font-family: 'Open Sans', verdana, arial, sans-serif; font-size: 12px; fill: rgb(68, 68, 68); fill-opacity: 1; white-space: pre; opacity: 1;\" transform=\"translate(287.1,0)\">10</text></g><g class=\"xtick\"><text text-anchor=\"middle\" x=\"0\" y=\"433\" style=\"font-family: 'Open Sans', verdana, arial, sans-serif; font-size: 12px; fill: rgb(68, 68, 68); fill-opacity: 1; white-space: pre; opacity: 1;\" transform=\"translate(396.1,0)\">15</text></g><g class=\"xtick\"><text text-anchor=\"middle\" x=\"0\" y=\"433\" style=\"font-family: 'Open Sans', verdana, arial, sans-serif; font-size: 12px; fill: rgb(68, 68, 68); fill-opacity: 1; white-space: pre; opacity: 1;\" transform=\"translate(505.1,0)\">20</text></g></g><g class=\"yaxislayer-above\"><g class=\"ytick\"><text text-anchor=\"end\" x=\"79\" y=\"4.199999999999999\" transform=\"translate(0,420)\" style=\"font-family: 'Open Sans', verdana, arial, sans-serif; font-size: 12px; fill: rgb(68, 68, 68); fill-opacity: 1; white-space: pre; opacity: 1;\">0</text></g><g class=\"ytick\"><text text-anchor=\"end\" x=\"79\" y=\"4.199999999999999\" style=\"font-family: 'Open Sans', verdana, arial, sans-serif; font-size: 12px; fill: rgb(68, 68, 68); fill-opacity: 1; white-space: pre; opacity: 1;\" transform=\"translate(0,370.43)\">20</text></g><g class=\"ytick\"><text text-anchor=\"end\" x=\"79\" y=\"4.199999999999999\" style=\"font-family: 'Open Sans', verdana, arial, sans-serif; font-size: 12px; fill: rgb(68, 68, 68); fill-opacity: 1; white-space: pre; opacity: 1;\" transform=\"translate(0,320.87)\">40</text></g><g class=\"ytick\"><text text-anchor=\"end\" x=\"79\" y=\"4.199999999999999\" style=\"font-family: 'Open Sans', verdana, arial, sans-serif; font-size: 12px; fill: rgb(68, 68, 68); fill-opacity: 1; white-space: pre; opacity: 1;\" transform=\"translate(0,271.3)\">60</text></g><g class=\"ytick\"><text text-anchor=\"end\" x=\"79\" y=\"4.199999999999999\" style=\"font-family: 'Open Sans', verdana, arial, sans-serif; font-size: 12px; fill: rgb(68, 68, 68); fill-opacity: 1; white-space: pre; opacity: 1;\" transform=\"translate(0,221.74)\">80</text></g><g class=\"ytick\"><text text-anchor=\"end\" x=\"79\" y=\"4.199999999999999\" style=\"font-family: 'Open Sans', verdana, arial, sans-serif; font-size: 12px; fill: rgb(68, 68, 68); fill-opacity: 1; white-space: pre; opacity: 1;\" transform=\"translate(0,172.17000000000002)\">100</text></g><g class=\"ytick\"><text text-anchor=\"end\" x=\"79\" y=\"4.199999999999999\" style=\"font-family: 'Open Sans', verdana, arial, sans-serif; font-size: 12px; fill: rgb(68, 68, 68); fill-opacity: 1; white-space: pre; opacity: 1;\" transform=\"translate(0,122.61)\">120</text></g><g class=\"ytick\"><text text-anchor=\"end\" x=\"79\" y=\"4.199999999999999\" style=\"font-family: 'Open Sans', verdana, arial, sans-serif; font-size: 12px; fill: rgb(68, 68, 68); fill-opacity: 1; white-space: pre; opacity: 1;\" transform=\"translate(0,73.03999999999999)\">140</text></g></g><g class=\"overaxes-above\"/></g></g><g class=\"polarlayer\"/><g class=\"smithlayer\"/><g class=\"ternarylayer\"/><g class=\"geolayer\"/><g class=\"funnelarealayer\"/><g class=\"pielayer\"/><g class=\"iciclelayer\"/><g class=\"treemaplayer\"/><g class=\"sunburstlayer\"/><g class=\"glimages\"/><defs id=\"topdefs-36113f\"><g class=\"clips\"/><clipPath id=\"legend36113f\"><rect width=\"163\" height=\"48\" x=\"0\" y=\"0\"/></clipPath></defs><g class=\"layer-above\"><g class=\"imagelayer\"/><g class=\"shapelayer\"/></g><g class=\"infolayer\"><g class=\"legend\" pointer-events=\"all\" transform=\"translate(524.72,60)\"><rect class=\"bg\" shape-rendering=\"crispEdges\" width=\"163\" height=\"48\" x=\"0\" y=\"0\" style=\"stroke: rgb(68, 68, 68); stroke-opacity: 1; fill: rgb(255, 255, 255); fill-opacity: 1; stroke-width: 0px;\"/><g class=\"scrollbox\" transform=\"\" clip-path=\"url(#legend36113f)\"><text class=\"legendtitletext\" text-anchor=\"start\" x=\"2\" y=\"18.2\" style=\"font-family: 'Open Sans', verdana, arial, sans-serif; font-size: 14px; fill: rgb(68, 68, 68); fill-opacity: 1; white-space: pre;\">variable</text><g class=\"groups\" transform=\"\"><g class=\"traces\" transform=\"translate(0,32.7)\" style=\"opacity: 1;\"><text class=\"legendtext\" text-anchor=\"start\" x=\"40\" y=\"4.680000000000001\" style=\"font-family: 'Open Sans', verdana, arial, sans-serif; font-size: 12px; fill: rgb(68, 68, 68); fill-opacity: 1; white-space: pre;\">total_pages_visited</text><g class=\"layers\" style=\"opacity: 1;\"><g class=\"legendfill\"/><g class=\"legendlines\"/><g class=\"legendsymbols\"><g class=\"legendpoints\"><path class=\"legendundefined\" d=\"M6,6H-6V-6H6Z\" transform=\"translate(20,0)\" style=\"stroke-width: 0px; fill: rgb(75, 154, 199); fill-opacity: 1;\"/></g></g></g><rect class=\"legendtoggle\" x=\"0\" y=\"-9.5\" width=\"157.359375\" height=\"19\" style=\"fill: rgb(0, 0, 0); fill-opacity: 0;\"/></g></g></g><rect class=\"scrollbar\" rx=\"20\" ry=\"3\" width=\"0\" height=\"0\" x=\"0\" y=\"0\" style=\"fill: rgb(128, 139, 164); fill-opacity: 1;\"/></g><g class=\"g-gtitle\"/><g class=\"g-xtitle\"><text class=\"xtitle\" x=\"298\" y=\"472\" text-anchor=\"middle\" style=\"font-family: 'Open Sans', verdana, arial, sans-serif; font-size: 14px; fill: rgb(68, 68, 68); opacity: 1; font-weight: normal; white-space: pre;\">value</text></g><g class=\"g-ytitle\"><text class=\"ytitle\" transform=\"rotate(-90,42,240)\" x=\"42\" y=\"240\" text-anchor=\"middle\" style=\"font-family: 'Open Sans', verdana, arial, sans-serif; font-size: 14px; fill: rgb(68, 68, 68); opacity: 1; font-weight: normal; white-space: pre;\">count</text></g></g></svg>"
     },
     "metadata": {},
     "output_type": "display_data"
    }
   ],
   "source": [
    "px.histogram(data_sample['total_pages_visited'])"
   ]
  },
  {
   "cell_type": "markdown",
   "metadata": {},
   "source": [
    "### Qualitative Values "
   ]
  },
  {
   "cell_type": "code",
   "execution_count": 51,
   "metadata": {},
   "outputs": [
    {
     "data": {
      "text/html": [
       "<div>\n",
       "<style scoped>\n",
       "    .dataframe tbody tr th:only-of-type {\n",
       "        vertical-align: middle;\n",
       "    }\n",
       "\n",
       "    .dataframe tbody tr th {\n",
       "        vertical-align: top;\n",
       "    }\n",
       "\n",
       "    .dataframe thead th {\n",
       "        text-align: right;\n",
       "    }\n",
       "</style>\n",
       "<table border=\"1\" class=\"dataframe\">\n",
       "  <thead>\n",
       "    <tr style=\"text-align: right;\">\n",
       "      <th></th>\n",
       "      <th>country</th>\n",
       "      <th>age</th>\n",
       "      <th>new_user</th>\n",
       "      <th>source</th>\n",
       "      <th>total_pages_visited</th>\n",
       "      <th>converted</th>\n",
       "    </tr>\n",
       "  </thead>\n",
       "  <tbody>\n",
       "    <tr>\n",
       "      <th>0</th>\n",
       "      <td>China</td>\n",
       "      <td>22</td>\n",
       "      <td>1</td>\n",
       "      <td>Direct</td>\n",
       "      <td>2</td>\n",
       "      <td>0</td>\n",
       "    </tr>\n",
       "    <tr>\n",
       "      <th>1</th>\n",
       "      <td>UK</td>\n",
       "      <td>21</td>\n",
       "      <td>1</td>\n",
       "      <td>Ads</td>\n",
       "      <td>3</td>\n",
       "      <td>0</td>\n",
       "    </tr>\n",
       "    <tr>\n",
       "      <th>2</th>\n",
       "      <td>Germany</td>\n",
       "      <td>20</td>\n",
       "      <td>0</td>\n",
       "      <td>Seo</td>\n",
       "      <td>14</td>\n",
       "      <td>1</td>\n",
       "    </tr>\n",
       "    <tr>\n",
       "      <th>3</th>\n",
       "      <td>US</td>\n",
       "      <td>23</td>\n",
       "      <td>1</td>\n",
       "      <td>Seo</td>\n",
       "      <td>3</td>\n",
       "      <td>0</td>\n",
       "    </tr>\n",
       "    <tr>\n",
       "      <th>4</th>\n",
       "      <td>US</td>\n",
       "      <td>28</td>\n",
       "      <td>1</td>\n",
       "      <td>Direct</td>\n",
       "      <td>3</td>\n",
       "      <td>0</td>\n",
       "    </tr>\n",
       "  </tbody>\n",
       "</table>\n",
       "</div>"
      ],
      "text/plain": [
       "   country  age  new_user  source  total_pages_visited  converted\n",
       "0    China   22         1  Direct                    2          0\n",
       "1       UK   21         1     Ads                    3          0\n",
       "2  Germany   20         0     Seo                   14          1\n",
       "3       US   23         1     Seo                    3          0\n",
       "4       US   28         1  Direct                    3          0"
      ]
     },
     "execution_count": 51,
     "metadata": {},
     "output_type": "execute_result"
    }
   ],
   "source": [
    "data.head()"
   ]
  },
  {
   "cell_type": "code",
   "execution_count": 52,
   "metadata": {},
   "outputs": [
    {
     "name": "stdout",
     "output_type": "stream",
     "text": [
      "country\n"
     ]
    },
    {
     "data": {
      "image/png": "[encoded data removed]",
      "text/plain": [
       "<Figure size 432x288 with 1 Axes>"
      ]
     },
     "metadata": {
      "needs_background": "light"
     },
     "output_type": "display_data"
    }
   ],
   "source": [
    "print('country')\n",
    "data_sample['country'].value_counts().plot(kind='bar');\n"
   ]
  },
  {
   "cell_type": "code",
   "execution_count": 53,
   "metadata": {},
   "outputs": [
    {
     "name": "stdout",
     "output_type": "stream",
     "text": [
      "new_user\n"
     ]
    },
    {
     "data": {
      "image/png": "[encoded data removed]",
      "text/plain": [
       "<Figure size 432x288 with 1 Axes>"
      ]
     },
     "metadata": {
      "needs_background": "light"
     },
     "output_type": "display_data"
    }
   ],
   "source": [
    "print('new_user')\n",
    "data_sample['new_user'].value_counts().plot(kind='bar');"
   ]
  },
  {
   "cell_type": "code",
   "execution_count": 54,
   "metadata": {},
   "outputs": [
    {
     "name": "stdout",
     "output_type": "stream",
     "text": [
      "source\n"
     ]
    },
    {
     "data": {
      "image/png": "[encoded data removed]",
      "text/plain": [
       "<Figure size 432x288 with 1 Axes>"
      ]
     },
     "metadata": {
      "needs_background": "light"
     },
     "output_type": "display_data"
    }
   ],
   "source": [
    "print('source')\n",
    "data_sample['source'].value_counts().plot(kind='bar');"
   ]
  },
  {
   "cell_type": "code",
   "execution_count": 55,
   "metadata": {},
   "outputs": [
    {
     "name": "stdout",
     "output_type": "stream",
     "text": [
      "converted\n"
     ]
    },
    {
     "data": {
      "image/png": "[encoded data removed]",
      "text/plain": [
       "<Figure size 432x288 with 1 Axes>"
      ]
     },
     "metadata": {
      "needs_background": "light"
     },
     "output_type": "display_data"
    }
   ],
   "source": [
    "print('converted')\n",
    "data_sample['converted'].value_counts().plot(kind='bar');"
   ]
  },
  {
   "cell_type": "code",
   "execution_count": 57,
   "metadata": {},
   "outputs": [
    {
     "data": {
      "text/html": [
       "<div>\n",
       "<style scoped>\n",
       "    .dataframe tbody tr th:only-of-type {\n",
       "        vertical-align: middle;\n",
       "    }\n",
       "\n",
       "    .dataframe tbody tr th {\n",
       "        vertical-align: top;\n",
       "    }\n",
       "\n",
       "    .dataframe thead th {\n",
       "        text-align: right;\n",
       "    }\n",
       "</style>\n",
       "<table border=\"1\" class=\"dataframe\">\n",
       "  <thead>\n",
       "    <tr style=\"text-align: right;\">\n",
       "      <th></th>\n",
       "      <th>country</th>\n",
       "      <th>age</th>\n",
       "      <th>new_user</th>\n",
       "      <th>source</th>\n",
       "      <th>total_pages_visited</th>\n",
       "      <th>converted</th>\n",
       "    </tr>\n",
       "  </thead>\n",
       "  <tbody>\n",
       "    <tr>\n",
       "      <th>0</th>\n",
       "      <td>China</td>\n",
       "      <td>22</td>\n",
       "      <td>1</td>\n",
       "      <td>Direct</td>\n",
       "      <td>2</td>\n",
       "      <td>0</td>\n",
       "    </tr>\n",
       "    <tr>\n",
       "      <th>1</th>\n",
       "      <td>UK</td>\n",
       "      <td>21</td>\n",
       "      <td>1</td>\n",
       "      <td>Ads</td>\n",
       "      <td>3</td>\n",
       "      <td>0</td>\n",
       "    </tr>\n",
       "    <tr>\n",
       "      <th>2</th>\n",
       "      <td>Germany</td>\n",
       "      <td>20</td>\n",
       "      <td>0</td>\n",
       "      <td>Seo</td>\n",
       "      <td>14</td>\n",
       "      <td>1</td>\n",
       "    </tr>\n",
       "    <tr>\n",
       "      <th>3</th>\n",
       "      <td>US</td>\n",
       "      <td>23</td>\n",
       "      <td>1</td>\n",
       "      <td>Seo</td>\n",
       "      <td>3</td>\n",
       "      <td>0</td>\n",
       "    </tr>\n",
       "    <tr>\n",
       "      <th>4</th>\n",
       "      <td>US</td>\n",
       "      <td>28</td>\n",
       "      <td>1</td>\n",
       "      <td>Direct</td>\n",
       "      <td>3</td>\n",
       "      <td>0</td>\n",
       "    </tr>\n",
       "  </tbody>\n",
       "</table>\n",
       "</div>"
      ],
      "text/plain": [
       "   country  age  new_user  source  total_pages_visited  converted\n",
       "0    China   22         1  Direct                    2          0\n",
       "1       UK   21         1     Ads                    3          0\n",
       "2  Germany   20         0     Seo                   14          1\n",
       "3       US   23         1     Seo                    3          0\n",
       "4       US   28         1  Direct                    3          0"
      ]
     },
     "execution_count": 57,
     "metadata": {},
     "output_type": "execute_result"
    }
   ],
   "source": [
    "data.head()"
   ]
  },
  {
   "cell_type": "markdown",
   "metadata": {
    "colab_type": "text",
    "id": "70MwsoCS3QD5"
   },
   "source": [
    "# Make your model"
   ]
  },
  {
   "cell_type": "markdown",
   "metadata": {
    "colab_type": "text",
    "id": "dPh1qPTf3wZU"
   },
   "source": [
    "## Choose variables to use in the model, and create train and test sets\n",
    "**From the EDA, we know that the most useful feature is total_pages_visited. Let's create a baseline model by using at first only this feature : in the next cells, we'll make preprocessings and train a simple (univariate) logistic regression.**"
   ]
  },
  {
   "cell_type": "code",
   "execution_count": null,
   "metadata": {
    "colab": {},
    "colab_type": "code",
    "id": "sjEHMGoY3kMB"
   },
   "outputs": [],
   "source": [
    "features_list = ['total_pages_visited']\n",
    "numeric_indices = [0]\n",
    "categorical_indices = []\n",
    "target_variable = 'converted'"
   ]
  },
  {
   "cell_type": "code",
   "execution_count": null,
   "metadata": {
    "colab": {
     "base_uri": "https://localhost:8080/",
     "height": 50
    },
    "colab_type": "code",
    "id": "SV5E9KMs4xcq",
    "outputId": "9d1ed76e-e82e-45e7-f3e5-6d47962caa5a"
   },
   "outputs": [],
   "source": [
    "X = data.loc[:, features_list]\n",
    "Y = data.loc[:, target_variable]\n",
    "\n",
    "print('Explanatory variables : ', X.columns)\n",
    "print()"
   ]
  },
  {
   "cell_type": "code",
   "execution_count": null,
   "metadata": {
    "colab": {
     "base_uri": "https://localhost:8080/",
     "height": 67
    },
    "colab_type": "code",
    "id": "W8K5DQEvvQgl",
    "outputId": "d280ebc9-4d4b-4723-b9fe-32513f898abc"
   },
   "outputs": [],
   "source": [
    "# Divide dataset Train set & Test set \n",
    "print(\"Dividing into train and test sets...\")\n",
    "X_train, X_test, Y_train, Y_test = train_test_split(X, Y, test_size=0.1, random_state=0)\n",
    "print(\"...Done.\")\n",
    "print()"
   ]
  },
  {
   "cell_type": "code",
   "execution_count": null,
   "metadata": {
    "colab": {
     "base_uri": "https://localhost:8080/",
     "height": 218
    },
    "colab_type": "code",
    "id": "vVu0eXQD4xVc",
    "outputId": "83a5f553-f50d-44dc-d12a-6cb21e74e4d7"
   },
   "outputs": [],
   "source": [
    "# Convert pandas DataFrames to numpy arrays before using scikit-learn\n",
    "print(\"Convert pandas DataFrames to numpy arrays...\")\n",
    "X_train = X_train.values\n",
    "X_test = X_test.values\n",
    "Y_train = Y_train.values\n",
    "Y_test = Y_test.values\n",
    "print(\"...Done\")\n",
    "\n",
    "print(X_train[0:5,:])\n",
    "print(X_test[0:2,:])\n",
    "print()\n",
    "print(Y_train[0:5])\n",
    "print(Y_test[0:2])"
   ]
  },
  {
   "cell_type": "markdown",
   "metadata": {
    "colab_type": "text",
    "id": "7b_aU7ij7K3Q"
   },
   "source": [
    "## Training pipeline"
   ]
  },
  {
   "cell_type": "code",
   "execution_count": null,
   "metadata": {
    "colab": {
     "base_uri": "https://localhost:8080/",
     "height": 235
    },
    "colab_type": "code",
    "id": "_9bEZ5bn7I5Z",
    "outputId": "ad5c8f97-2d25-4827-f1ee-43c665a97fa0"
   },
   "outputs": [],
   "source": [
    "# Put here all the preprocessings\n",
    "print(\"Encoding categorical features and standardizing numerical features...\")\n",
    "\n",
    "featureencoder = StandardScaler()\n",
    "X_train = featureencoder.fit_transform(X_train)\n",
    "print(\"...Done\")\n",
    "print(X_train[0:5,:])"
   ]
  },
  {
   "cell_type": "code",
   "execution_count": null,
   "metadata": {
    "colab": {
     "base_uri": "https://localhost:8080/",
     "height": 104
    },
    "colab_type": "code",
    "id": "1qhidLbq7o-5",
    "outputId": "6bfb746c-1ff4-41c9-b0d6-a98fd09a444d"
   },
   "outputs": [],
   "source": [
    "# Train model\n",
    "print(\"Train model...\")\n",
    "classifier = LogisticRegression() # \n",
    "classifier.fit(X_train, Y_train)\n",
    "print(\"...Done.\")"
   ]
  },
  {
   "cell_type": "code",
   "execution_count": null,
   "metadata": {
    "colab": {
     "base_uri": "https://localhost:8080/",
     "height": 84
    },
    "colab_type": "code",
    "id": "Au2TK_vw7rD-",
    "outputId": "702789a8-4631-4c29-f297-e4b2901f3195"
   },
   "outputs": [],
   "source": [
    "# Predictions on training set\n",
    "print(\"Predictions on training set...\")\n",
    "Y_train_pred = classifier.predict(X_train)\n",
    "print(\"...Done.\")\n",
    "print(Y_train_pred)\n",
    "print()"
   ]
  },
  {
   "cell_type": "markdown",
   "metadata": {
    "colab_type": "text",
    "id": "7TY_v9uH_CE7"
   },
   "source": [
    "## Test pipeline"
   ]
  },
  {
   "cell_type": "code",
   "execution_count": null,
   "metadata": {
    "colab": {
     "base_uri": "https://localhost:8080/",
     "height": 134
    },
    "colab_type": "code",
    "id": "ngOSdG6-_Cvb",
    "outputId": "1e19e8ee-222f-413b-9bc0-e9f41dcca1c0"
   },
   "outputs": [],
   "source": [
    "# Use X_test, and the same preprocessings as in training pipeline, \n",
    "# but call \"transform()\" instead of \"fit_transform\" methods (see example below)\n",
    "\n",
    "print(\"Encoding categorical features and standardizing numerical features...\")\n",
    "\n",
    "X_test = featureencoder.transform(X_test)\n",
    "print(\"...Done\")\n",
    "print(X_test[0:5,:])"
   ]
  },
  {
   "cell_type": "code",
   "execution_count": null,
   "metadata": {
    "colab": {
     "base_uri": "https://localhost:8080/",
     "height": 84
    },
    "colab_type": "code",
    "id": "QS1XrzzE_jQI",
    "outputId": "866a96d2-4180-4bd1-ce54-ba052e75d485"
   },
   "outputs": [],
   "source": [
    "# Predictions on test set\n",
    "print(\"Predictions on test set...\")\n",
    "Y_test_pred = classifier.predict(X_test)\n",
    "print(\"...Done.\")\n",
    "print(Y_test_pred)\n",
    "print()"
   ]
  },
  {
   "cell_type": "markdown",
   "metadata": {
    "colab_type": "text",
    "id": "zxJCTlz0_2it"
   },
   "source": [
    "## Performance assessment"
   ]
  },
  {
   "cell_type": "code",
   "execution_count": null,
   "metadata": {
    "colab": {
     "base_uri": "https://localhost:8080/",
     "height": 50
    },
    "colab_type": "code",
    "id": "6x7p1nyr_3UV",
    "outputId": "8e5b91ba-ca06-4486-d808-37a6aaaa8cf7"
   },
   "outputs": [],
   "source": [
    "# WARNING : Use the same score as the one that will be used by Kaggle !\n",
    "# Here, the f1-score will be used to assess the performances on the leaderboard\n",
    "print(\"f1-score on train set : \", f1_score(Y_train, Y_train_pred))\n",
    "print(\"f1-score on test set : \", f1_score(Y_test, Y_test_pred))"
   ]
  },
  {
   "cell_type": "code",
   "execution_count": null,
   "metadata": {
    "colab": {
     "base_uri": "https://localhost:8080/",
     "height": 151
    },
    "colab_type": "code",
    "id": "KhDTCeBy__JK",
    "outputId": "72c82d66-d765-437e-e9ef-4ccc80e7183f"
   },
   "outputs": [],
   "source": [
    "# You can also check more performance metrics to better understand what your model is doing\n",
    "print(\"Confusion matrix on train set : \")\n",
    "print(confusion_matrix(Y_train, Y_train_pred))\n",
    "print()\n",
    "print(\"Confusion matrix on test set : \")\n",
    "print(confusion_matrix(Y_test, Y_test_pred))\n",
    "print()"
   ]
  },
  {
   "cell_type": "markdown",
   "metadata": {},
   "source": [
    "**Our baseline model reaches a f1-score of almost 70%. Now, feel free to refine your model and try to beat this score ! 🚀🚀**"
   ]
  },
  {
   "cell_type": "markdown",
   "metadata": {
    "colab_type": "text",
    "id": "6tVVDRABv91O"
   },
   "source": [
    "# Train best classifier on all data and use it to make predictions on X_without_labels\n",
    "**Before making predictions on the file conversion_data_test.csv, let's train our model on ALL the data that was in conversion_data_train.csv. Sometimes, this allows to make tiny improvements in the score because we're using more examples to train the model.**"
   ]
  },
  {
   "cell_type": "code",
   "execution_count": null,
   "metadata": {
    "colab": {
     "base_uri": "https://localhost:8080/",
     "height": 154
    },
    "colab_type": "code",
    "id": "M14RHUadzE2p",
    "outputId": "abcfcfec-9461-4579-adbd-f23270f984eb"
   },
   "outputs": [],
   "source": [
    "# Concatenate our train and test set to train your best classifier on all data with labels\n",
    "X = np.append(X_train,X_test,axis=0)\n",
    "Y = np.append(Y_train,Y_test)\n",
    "\n",
    "classifier.fit(X,Y)"
   ]
  },
  {
   "cell_type": "code",
   "execution_count": null,
   "metadata": {
    "colab": {
     "base_uri": "https://localhost:8080/",
     "height": 151
    },
    "colab_type": "code",
    "id": "Tr4CEaPzzbP-",
    "outputId": "f0d1c8ed-be4b-4974-d7b9-f23a49344d9d"
   },
   "outputs": [],
   "source": [
    "# Read data without labels\n",
    "data_without_labels = pd.read_csv('conversion_data_test.csv')\n",
    "print('Prediction set (without labels) :', data_without_labels.shape)\n",
    "\n",
    "# Warning : check consistency of features_list (must be the same than the features \n",
    "# used by your best classifier)\n",
    "features_list = ['total_pages_visited']\n",
    "X_without_labels = data_without_labels.loc[:, features_list]\n",
    "\n",
    "# Convert pandas DataFrames to numpy arrays before using scikit-learn\n",
    "print(\"Convert pandas DataFrames to numpy arrays...\")\n",
    "X_without_labels = X_without_labels.values\n",
    "print(\"...Done\")\n",
    "\n",
    "print(X_without_labels[0:5,:])"
   ]
  },
  {
   "cell_type": "code",
   "execution_count": null,
   "metadata": {
    "colab": {
     "base_uri": "https://localhost:8080/",
     "height": 134
    },
    "colab_type": "code",
    "id": "LoUISfsT0HMR",
    "outputId": "e42dc389-5e77-4e13-ccbc-1fef4aa2c0ca"
   },
   "outputs": [],
   "source": [
    "# WARNING : PUT HERE THE SAME PREPROCESSING AS FOR YOUR TEST SET\n",
    "# CHECK YOU ARE USING X_without_labels\n",
    "print(\"Encoding categorical features and standardizing numerical features...\")\n",
    "\n",
    "X_without_labels = featureencoder.transform(X_without_labels)\n",
    "print(\"...Done\")\n",
    "print(X_without_labels[0:5,:])"
   ]
  },
  {
   "cell_type": "code",
   "execution_count": null,
   "metadata": {
    "colab": {},
    "colab_type": "code",
    "id": "7DuWSEHuwEQJ"
   },
   "outputs": [],
   "source": [
    "# Make predictions and dump to file\n",
    "# WARNING : MAKE SURE THE FILE IS A CSV WITH ONE COLUMN NAMED 'converted' AND NO INDEX !\n",
    "# WARNING : FILE NAME MUST HAVE FORMAT 'conversion_data_test_predictions_[name].csv'\n",
    "# where [name] is the name of your team/model separated by a '-'\n",
    "# For example : [name] = AURELIE-model1\n",
    "data = {\n",
    "    'converted': classifier.predict(X_without_labels)\n",
    "}\n",
    "\n",
    "Y_predictions = pd.DataFrame(columns=['converted'],data=data)\n",
    "Y_predictions.to_csv('conversion_data_test_predictions_EXAMPLE.csv', index=False)\n"
   ]
  },
  {
   "cell_type": "markdown",
   "metadata": {},
   "source": [
    "## Analyzing the coefficients and interpreting the result\n",
    "**In this template, we just trained a model with only one feature (total_pages_visited), so there's no analysis to be done about the feature importance 🤔**\n",
    "\n",
    "**Once you've included more features in your model, please take some time to analyze the model's parameters and try to find some lever for action to improve the newsletter's conversion rate 😎😎**"
   ]
  }
 ],
 "metadata": {
  "colab": {
   "collapsed_sections": [],
   "name": "Projets_template.ipynb",
   "provenance": []
  },
  "kernelspec": {
   "display_name": "Python 3.9.5 64-bit",
   "language": "python",
   "name": "python3"
  },
  "language_info": {
   "codemirror_mode": {
    "name": "ipython",
    "version": 3
   },
   "file_extension": ".py",
   "mimetype": "text/x-python",
   "name": "python",
   "nbconvert_exporter": "python",
   "pygments_lexer": "ipython3",
   "version": "3.9.5"
  },
  "vscode": {
   "interpreter": {
    "hash": "7812ea015bdcee6f23a998adcdd2ef97c151c0c241b7b7070987d9313e41299d"
   }
  }
 },
 "nbformat": 4,
 "nbformat_minor": 4
}
